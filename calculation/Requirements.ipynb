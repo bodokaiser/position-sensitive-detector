{
  "cells": [
    {
      "cell_type": "markdown",
      "source": [
        "# Requirements\n",
        "\nIn this notebook we want to summarize the requirements imposed on the position-sensitive device by our experimental setup."
      ],
      "metadata": {
        "collapsed": false,
        "outputHidden": false,
        "inputHidden": false
      }
    },
    {
      "cell_type": "markdown",
      "source": [
        "### Accuracy and precsion\n",
        "\n",
        "For this project we will refer to accuracy to describe the closeness of the measurement to the true quantity and to precision to describe the variation accross a set of measurements.\n",
        "\n",
        "Applied to the position-sensitive device a perfect accuracy would be obtained if a signal incident to the center of the detector would yield a mean position around zero whereas a perfect precision may include a constant offset but zero variance.\n",
        "\nThe design of the position-sensitive device requires a compromise between accuracy and precision, e.g. we could integrate an offset compensation into the device, however this would increase the noise level. The position-sensitiver device will be used to detect changes of the relative position of a signal, thus, the design of the position-sensitive device puts **precision first**."
      ],
      "metadata": {}
    },
    {
      "cell_type": "markdown",
      "source": [
        "### Power\n",
        "\nUsual beam powers in our setup range from 100 µW to 1 mW. **The sensor should saturate at 10 mW.**"
      ],
      "metadata": {}
    },
    {
      "cell_type": "markdown",
      "source": [
        "### Wavelength\n",
        "\n",
        "* **454 nm**\n",
        "* 532 nm\n",
        "* 776 nm\n",
        "* **852 nm**\n",
        "* 880 nm\n",
        "* **1064 nm**\n",
        "* 1550 nm\n",
        "\nThe last wavelength is too far in the infrared range to be detected by usual optical sensors. To keep things simple we will not consider 880 nm and 776 nm as they are close to 852 nm."
      ],
      "metadata": {}
    },
    {
      "cell_type": "markdown",
      "source": [
        "### Bandwidth\n",
        "\nThe position-sensitive device will not be used for high-speed applications, yet, we want to resolve a bandwidth up to 10 kHZ to ensure sufficient precision."
      ],
      "metadata": {}
    }
  ],
  "metadata": {
    "kernel_info": {
      "name": "julia-1.1"
    },
    "language_info": {
      "file_extension": ".jl",
      "name": "julia",
      "mimetype": "application/julia",
      "version": "1.1.0"
    },
    "kernelspec": {
      "name": "julia-1.1",
      "language": "julia",
      "display_name": "Julia 1.1.0"
    },
    "nteract": {
      "version": "0.12.3"
    }
  },
  "nbformat": 4,
  "nbformat_minor": 4
}