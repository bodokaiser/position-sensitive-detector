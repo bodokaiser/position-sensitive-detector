{
  "cells": [
    {
      "cell_type": "markdown",
      "source": [
        "# Noise estimation\n",
        "\nIn this notebook we want estimate the noise present in the preamp stage of our position-sensitive device (PSD)."
      ],
      "metadata": {
        "collapsed": false,
        "outputHidden": false,
        "inputHidden": false
      }
    },
    {
      "cell_type": "code",
      "source": [
        "using PlotlyJS"
      ],
      "outputs": [
        {
          "output_type": "display_data",
          "data": {
            "text/plain": [
              "HTML{String}(\"    <script class='js-collapse-script'>\\n        var curMatch =\\n            window.location.href\\n            .match(/(.*?)\\\\/notebooks\\\\/.*\\\\.ipynb/);\\n\\n        curMatch = curMatch ||\\n            window.location.href\\n            .match(/(.*?)\\\\/apps\\\\/.*\\\\.ipynb/);\\n\\n        if ( curMatch ) {\\n            \\$('head').append('<base href=\\\"' + curMatch[1] + '/\\\">');\\n        }\\n    </script>\\n\")"
            ],
            "text/html": [
              "    <script class='js-collapse-script'>\n",
              "        var curMatch =\n",
              "            window.location.href\n",
              "            .match(/(.*?)\\/notebooks\\/.*\\.ipynb/);\n",
              "\n",
              "        curMatch = curMatch ||\n",
              "            window.location.href\n",
              "            .match(/(.*?)\\/apps\\/.*\\.ipynb/);\n",
              "\n",
              "        if ( curMatch ) {\n",
              "            $('head').append('<base href=\"' + curMatch[1] + '/\">');\n",
              "        }\n",
              "    </script>\n"
            ]
          },
          "metadata": {}
        },
        {
          "output_type": "display_data",
          "data": {
            "text/plain": [
              "HTML{String}(\"<script class='js-collapse-script' src='/assetserver/11ccf2b9d71d7a9e43811c38e0d03d86dc3c260f-assets/webio/dist/bundle.js'></script>\")"
            ],
            "text/html": [
              "<script class='js-collapse-script' src='/assetserver/11ccf2b9d71d7a9e43811c38e0d03d86dc3c260f-assets/webio/dist/bundle.js'></script>"
            ]
          },
          "metadata": {}
        },
        {
          "output_type": "display_data",
          "data": {
            "text/plain": [
              "HTML{String}(\"<script class='js-collapse-script' src='/assetserver/11ccf2b9d71d7a9e43811c38e0d03d86dc3c260f-assets/providers/ijulia_setup.js'></script>\")"
            ],
            "text/html": [
              "<script class='js-collapse-script' src='/assetserver/11ccf2b9d71d7a9e43811c38e0d03d86dc3c260f-assets/providers/ijulia_setup.js'></script>"
            ]
          },
          "metadata": {}
        },
        {
          "output_type": "display_data",
          "data": {
            "text/plain": [
              "HTML{String}(\"  <script class='js-collapse-script'>\\n    \\$('.js-collapse-script').parent('.output_subarea').css('padding', '0');\\n  </script>\\n\")"
            ],
            "text/html": [
              "  <script class='js-collapse-script'>\n",
              "    $('.js-collapse-script').parent('.output_subarea').css('padding', '0');\n",
              "  </script>\n"
            ]
          },
          "metadata": {}
        }
      ],
      "execution_count": 1,
      "metadata": {}
    },
    {
      "cell_type": "markdown",
      "source": [
        "## Photo current\n",
        "\n",
        "Before we start we need to discuss typical photo currents.\n",
        "\n",
        "The [Hamamatsu S5990][1] PSD reports a saturation photo current of 500 μA and a dark current of maximum 10 nA. Precision measurements of the S5990 where conducted with a photo current of 1 μA.\n",
        "\n",
        "Typical PSDs, e.g. the [Thorlabs PDP90][2], are designed to operate with photo currents up to 40 μA.\n",
        "\n",
        "[1]: https://www.hamamatsu.com/resources/pdf/ssd/s5990-01_etc_kpsd1010e.pdf\n",
        "[2]: http://www2.nao.ac.jp/~gw-elog/osl/uploads/278_20160721110810_pdp90a.pdf"
      ],
      "metadata": {
        "collapsed": false,
        "outputHidden": false,
        "inputHidden": false
      }
    },
    {
      "cell_type": "markdown",
      "source": [
        "## Feedback resistor\n",
        "\n",
        "The most simple circuit equivalent of a PSD photodiode is that of a current source. Because photo currents are typically small we use a transimpedance amplifier to convert the current to a voltage. The relation between input current $I_\\text{in}$ and output voltage $V_\\text{out}$ is determined by the feedback resistor $R_f$ according to,\n",
        "$$V_\\text{out}=R_fI_\\text{in},$$\n",
        "for an ideal op-amp. We calculated some feedback resistor values for realistic photo currents and summarized them in the table below.\n",
        "\n",
        "| Input current $I_\\text{in}$ | Feedback resistor $R_f$ |\n",
        "| - | - |\n",
        "| 10 nA | 100 MΩ/V |\n",
        "| 1 μA | 10 MΩ/V |\n",
        "| 10 μA | 1 MΩ/V |\n",
        "| 100 μA | 100 kΩ/V |\n",
        "\nThe feedback resistor values in the table still depend on the maximum output voltage. The maximum output voltage is constrained by $V_\\text{out}< V_s/4$ where $V_s$ is the supply voltage. The argument behind this constraint is that we need to sum the voltages at a later stage and our op-amps cannot operate above the supply voltage. Thus for a typical supply voltage of $V_s$ = 15 V the values for the feedback resistor will only go down by a factor of 4 to 5."
      ],
      "metadata": {
        "collapsed": false,
        "outputHidden": false,
        "inputHidden": false
      }
    },
    {
      "cell_type": "markdown",
      "source": [
        "## Position resolution\n",
        "\n",
        "The position resolution of the PSD photodiodes is limited by the circuit noise,\n",
        "$$\\Delta x=L_x\\frac{I_\\text{noise}}{I_\\text{photo}}$$.\n",
        "\nThe S5990 datasheet reports $\\Delta x$ = 0.7 μm at $I_\\text{photo}$ = 1 μA which corresponds to $I_\\text{noise}$ = 17.5 nA. which is very small."
      ],
      "metadata": {
        "collapsed": false,
        "outputHidden": false,
        "inputHidden": false
      }
    },
    {
      "cell_type": "markdown",
      "source": [
        "### Noise estimation\n",
        "\nThe position resolution is limited by the circuit noise. So what contributes in what magnitude to the circuit nosie?"
      ],
      "metadata": {}
    }
  ],
  "metadata": {
    "kernel_info": {
      "name": "julia-1.1"
    },
    "language_info": {
      "file_extension": ".jl",
      "name": "julia",
      "mimetype": "application/julia",
      "version": "1.1.0"
    },
    "kernelspec": {
      "name": "julia-1.1",
      "language": "julia",
      "display_name": "Julia 1.1.0"
    },
    "nteract": {
      "version": "0.12.3"
    }
  },
  "nbformat": 4,
  "nbformat_minor": 4
}