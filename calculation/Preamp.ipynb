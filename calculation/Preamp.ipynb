{
  "cells": [
    {
      "cell_type": "markdown",
      "source": [
        "# Preamp\n",
        "\n",
        "The preamplification stage converts a photo current $I_\\text{photo}$ to a voltage signal $V_\\text{out}$ using a transimpedance amplifier circuit.\n",
        "Conversion is determined by,\n",
        "$$\n",
        "V_\\text{out}=-R_\\text{f}I_\\text{photo},\n",
        "$$\n",
        "whereing $R_\\text{f}$ is the value of the feedback resistor $R_\\text{f}$.\n",
        "\n",
        "In this notebook we want to find the optimal parameter of $R_\\text{f}$ respective $V_\\text{out}$ given,\n",
        "* an operating temperature $T$,\n",
        "* an operating bandwidth $\\Delta f$,\n",
        "* a maximum photo current $I^\\max_\\text{photo}$,\n",
        "* and a dual supply voltage $V_\\text{supply}$.\n",
        "\n",
        "As an upper bound we have $\\vert V_\\text{out}\\vert <V_\\text{supply}$ because we want don't want to operate the op-amp rail-to-rail.\n",
        "If we choose $V_\\text{out}$ to be greater than the optimum, then the amplified noise will be dominant.\n",
        "However, if we choose $V_\\text{out}$ to be less than the optimum, then unamplified (background) noise will be dominant."
      ],
      "metadata": {
        "collapsed": false,
        "outputHidden": false,
        "inputHidden": false
      }
    },
    {
      "cell_type": "code",
      "source": [
        "using Unitful\n",
        "\n",
        "struct Requirements\n",
        "    bandwidth::Unitful.Frequency\n",
        "    photocurrent::Unitful.Current\n",
        "    supplyvoltage::Unitful.Voltage\n",
        "    temperature::Unitful.Temperature\n",
        "end\n",
        "\nrequirements = Requirements(1u\"kHz\", 100u\"µA\", 15u\"V\", 300u\"K\")"
      ],
      "outputs": [
        {
          "output_type": "execute_result",
          "execution_count": 1,
          "data": {
            "text/plain": [
              "Requirements(1 kHz, 100 μA, 15 V, 300 K)"
            ]
          },
          "metadata": {}
        }
      ],
      "execution_count": 1,
      "metadata": {
        "collapsed": false,
        "outputHidden": false,
        "inputHidden": false
      }
    },
    {
      "cell_type": "markdown",
      "source": [
        "## Noise\n",
        "\n",
        "We now give an overview of the different noise sources inside the transimpedance amplifier and their respective contribution to the output voltage signal.\n",
        "Note that although some noises are small at their occurance but large after amplification.\n",
        "\n",
        "### Thermal (Johnson-Nyquist) noise\n",
        "\n",
        "Thermal noise arises from thermal fluctuations in equilibrium.\n",
        "It increases with temperature and resistance as a higher resistance requires higher heat dissipation.\n",
        "$$\\Delta V_\\text{thermal}=\\sqrt{4k_BTR\\Delta f}$$\n",
        "The former equation holds true for any resistors $R$ not subject to amplification.\n",
        "Resistors in close proximity to the input terminals of the op-amp contribute a current,\n",
        "$$\\Delta I_\\text{thermal}=\\Delta V_\\text{thermal}/R=\\sqrt{4k_BT\\Delta f/R},$$\n",
        "which is contributes to the output voltage $V_\\text{out}$ in the same way as the photo current $I_\\text{photo}$."
      ],
      "metadata": {}
    },
    {
      "cell_type": "code",
      "source": [
        "function thermal_current_noise(resistance::Unitful.ElectricalResistance) ::Unitful.Current\n",
        "    return (4 * Unitful.k * requirements.temperature * requirements.bandwidth / resistance)^(1/2)\n",
        "end"
      ],
      "outputs": [
        {
          "output_type": "execute_result",
          "execution_count": 7,
          "data": {
            "text/plain": [
              "thermal_current_noise (generic function with 1 method)"
            ]
          },
          "metadata": {}
        }
      ],
      "execution_count": 7,
      "metadata": {}
    },
    {
      "cell_type": "markdown",
      "source": [
        "### Shot (Poisson) noise\n",
        "\n",
        "Shot noises arises from the discrete nature of the electron excitation at the photodiode junction.\n",
        "$$\\Delta I_\\text{shot}=\\sqrt{2e_0(I_\\text{dark}+I_\\text{photo})\\Delta f}$$\n",
        "As a current it contributes to the output voltage $V_\\text{out}$ in the same way as the photo current $I_\\text{photo}$."
      ],
      "metadata": {}
    },
    {
      "cell_type": "code",
      "source": [
        "function shot_current_noise(darkcurrent::Unitful.Current) ::Unitful.Current\n",
        "    return (2 * Unitful.q * (darkcurrent + requirements.photocurrent) * requirements.bandwidth)^(1/2)\n",
        "end"
      ],
      "outputs": [
        {
          "output_type": "execute_result",
          "execution_count": 11,
          "data": {
            "text/plain": [
              "shot_current_noise (generic function with 1 method)"
            ]
          },
          "metadata": {}
        }
      ],
      "execution_count": 11,
      "metadata": {}
    },
    {
      "cell_type": "markdown",
      "source": [
        "### Non-ideal op-amp\n",
        "\n",
        "For a non-ideal op-amp we need to consider,\n",
        "* finite gain,\n",
        "* finite bandwidth,\n",
        "* finite input impedance,\n",
        "* and input offset voltage.\n",
        "\nWe will neglect further imperfections."
      ],
      "metadata": {}
    },
    {
      "cell_type": "code",
      "source": [],
      "outputs": [],
      "execution_count": null,
      "metadata": {
        "collapsed": false,
        "outputHidden": false,
        "inputHidden": false
      }
    }
  ],
  "metadata": {
    "kernel_info": {
      "name": "julia-1.1"
    },
    "language_info": {
      "file_extension": ".jl",
      "name": "julia",
      "mimetype": "application/julia",
      "version": "1.1.0"
    },
    "kernelspec": {
      "name": "julia-1.1",
      "language": "julia",
      "display_name": "Julia 1.1.0"
    },
    "nteract": {
      "version": "0.12.3"
    }
  },
  "nbformat": 4,
  "nbformat_minor": 4
}