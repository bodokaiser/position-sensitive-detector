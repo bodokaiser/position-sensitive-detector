{
  "cells": [
    {
      "cell_type": "markdown",
      "source": [
        "# Signal\n",
        "\nIn this notebook we want to estimate the theoretical limit of the signal-to-noise ratio."
      ],
      "metadata": {
        "collapsed": false,
        "outputHidden": false,
        "inputHidden": false
      }
    },
    {
      "cell_type": "code",
      "source": [
        "using Unitful\n",
        "using Plots\n",
        "using PlotThemes\n",
        "\ntheme(:juno)"
      ],
      "outputs": [],
      "execution_count": 39,
      "metadata": {
        "collapsed": false,
        "outputHidden": false,
        "inputHidden": false
      }
    },
    {
      "cell_type": "markdown",
      "source": [
        "### Signal-to-noise ratio\n",
        "\n",
        "We define the signal-to-noise ratio (SNR) of a signal $s$ as,\n",
        "$$\n",
        "\\text{SNR}_s=\\frac{\\overline{s}^2}{\\sigma^2_s},\n",
        "$$\n",
        "wherein $\\overline{s}$ denotes the mean of the signal and $\\sigma^2_s$ its variance. Usually $\\text{SNR}_s$ is unitless, however, we can express the SNR also in decibels,\n",
        "$$\n",
        "10\\log\\text{SNR}_s,\n",
        "$$\n",
        "which is more easier to work with in practice. For $\\text{SNR}_s$ greater than 0 dB the signal contains more signal than noise."
      ],
      "metadata": {
        "collapsed": false,
        "outputHidden": false,
        "inputHidden": false
      }
    },
    {
      "cell_type": "markdown",
      "source": [
        "### Fixed-point arthimetic\n",
        "\n",
        "As a first application of the SNR we will estimate the SNR due to fixed-point arthimetic precision. At one point we need to sample the signal via analog-to-digital converter (ADC). Typical ADC have 8, 12 and 16 bit precision. The SNR due to finite precision of fixed-point arthimetic is given by,\n",
        "$$\n",
        "\\text{SNR}_{fp}\\approx6.02p,\n",
        "$$\n",
        "wherein $p$ denotes the precision.\n",
        "\n",
        "| Precision | 8 bit | 12 bit | 16 bit |\n",
        "| --------- | ----- | ------ | ------ |\n",
        "| SNR       | 48 dB | 72 dB  | 96 dB  |"
      ],
      "metadata": {
        "collapsed": false,
        "outputHidden": false,
        "inputHidden": false
      }
    },
    {
      "cell_type": "markdown",
      "source": [
        "## Optical signal\n",
        "\n",
        "In the following part we discuss the noise present in the optical signal.\n",
        "\n",
        "### Photon shot noise\n",
        "\n",
        "As our position-sensitive device will only be used with optical signals from a laser source we will limit this section to coherent light.\n",
        "\n",
        "In this case the number of photons incident in the time interval $[0,t]$ can be described by a Poisson process. The probability of exactly $n$ photons hitting the detector is,\n",
        "$$\n",
        "p_n(t)=\\frac{(\\mu t)^n}{n!}e^{-\\mu t},\n",
        "$$\n",
        "wherein $\\mu$ is the photon rate. The photon rate relates to the power of the optical signal $P$ and the wavelength $\\lambda$ through,\n",
        "$$\n",
        "\\mu=\\frac{P}{hc}\\lambda.\n",
        "$$\n",
        "For a Poisson process we have $\\overline{n}(t)=\\mu t$ and variance $\\sigma^2_n(t)=\\mu t$. Henceforth the signal-to-noise ratio is given by,\n",
        "$$\n",
        "\\text{SNR}_n=\\frac{\\overline{n}^2}{\\sigma^2_n}=\\frac{(\\mu t)^2}{\\mu t}=\\mu t=\\frac{P\\lambda}{hc}t.\n",
        "$$\n",
        "$\\text{SNR}_n$ obviously improves the longer we measure --- or equivalently --- decreases for higher frequency resolution. For practical applications this is the more interesting dependency. We will use $B=1/t$ as the bandwidth, thus,\n",
        "$$\n",
        "\\text{SNR}_n=\\frac{P\\lambda}{Bhc}.\n",
        "$$"
      ],
      "metadata": {
        "collapsed": false,
        "outputHidden": false,
        "inputHidden": false
      }
    },
    {
      "cell_type": "code",
      "source": [
        "function SNR_n(P::Unitful.Power, λ::Unitful.Length, B::Unitful.Frequency)\n",
        "    h = Unitful.h\n",
        "    c = Unitful.c\n",
        "\n",
        "    return 10 * log10(upreferred(P * λ / (B * h * c)))\n",
        "end\n",
        "\nSNR_n(100u\"μW\", 454u\"nm\", 10u\"kHz\")"
      ],
      "outputs": [
        {
          "output_type": "execute_result",
          "execution_count": 4,
          "data": {
            "text/plain": [
              "103.58979127706394"
            ]
          },
          "metadata": {}
        }
      ],
      "execution_count": 4,
      "metadata": {}
    },
    {
      "cell_type": "markdown",
      "source": [
        "An optical signal of power 100 μW, wavelength 454 nm detected with a bandwidth of 10 kHz yields a SNR of about 100 dB. Optical signals of higher power or wavelength will yield a greater SNR, thus we can take 100 dB as upper bound for photon shot noise limited SNR."
      ],
      "metadata": {
        "collapsed": false,
        "outputHidden": false,
        "inputHidden": false
      }
    },
    {
      "cell_type": "markdown",
      "source": [
        "### Background light\n",
        "\n",
        "In addition to the statistical nature of the photons we have background light registered by the detector. In the table below we summarized the mean background light measured in the laboratory.\n",
        "\n",
        "| Lights | 1070 nm | 532 nm | 456 nm |\n",
        "| ------ | ------- | ------ | ------ |\n",
        "| on     | 152 μW  | 182 μW | 232 μW |\n",
        "| off    | 130 nW  | 160 nW | 280 nW |\n",
        "\n",
        "The position-sensitive detector saturates at 500 μA photo current. Using the sensitivity $S(\\lambda)$ that converts optical power to photo current, we find that the saturation powers below.\n",
        "\n",
        "| Wavelength | 450 nm  | 550 nm  | 1050 nm |\n",
        "| ---------- | ------- | ------- | ------- |\n",
        "| Sat. power | 2000 μW | 1430 μW | 1250 μW |"
      ],
      "metadata": {
        "collapsed": false,
        "outputHidden": false,
        "inputHidden": false
      }
    },
    {
      "cell_type": "code",
      "source": [
        "10 * log10(2000 / 152), 10 * log10(1430 / 182), 10 * log10(1250 / 232)"
      ],
      "outputs": [
        {
          "output_type": "execute_result",
          "execution_count": 5,
          "data": {
            "text/plain": [
              "(11.191864077192086, 8.95264649479987, 7.3142202811715675)"
            ]
          },
          "metadata": {}
        }
      ],
      "execution_count": 5,
      "metadata": {
        "collapsed": false,
        "outputHidden": false,
        "inputHidden": false
      }
    },
    {
      "cell_type": "code",
      "source": [
        "10 * log10(2000 / 0.13), 10 * log10(1430 / 0.16), 10 * log10(1250 / 0.28)"
      ],
      "outputs": [
        {
          "output_type": "execute_result",
          "execution_count": 6,
          "data": {
            "text/plain": [
              "(41.87086643357144, 39.512160548091366, 36.497519816658375)"
            ]
          },
          "metadata": {}
        }
      ],
      "execution_count": 6,
      "metadata": {
        "collapsed": false,
        "outputHidden": false,
        "inputHidden": false
      }
    },
    {
      "cell_type": "markdown",
      "source": [
        "The SNRs of the optical signal subject to background light are given below.\n",
        "\n",
        "| Lights | 450 nm  | 550 nm  | 1050 nm |\n",
        "| ------ | ------- | ------- | ------- |\n",
        "| on     | 11 dB   | 9 dB    | 7 dB    |\n",
        "| off    | 42 dB   | 40 dB   | 36 dB   |\n",
        "\n",
        "These values only give a lower bound on the SNRs as the photodiode will be subject to saturation and our usual optical signal will be of less power.\n",
        "\n",
        "That said we can treat these as worst case SNRs. The laboratory background light is homogeneous over the small area of our position-sensitive detector, therefore, its mean power should not contribute to the position as we consider differences between the output anodes of the photodiode. A more important quantity we should consider is the standard deviation of the background light. We conducted 30 s measurements of the background light with an optical power meter at each of the given wavelengths. The standard deviations are listed below.\n",
        "\n",
        "| Lights | 450 nm  | 550 nm  | 1050 nm |\n",
        "| ------ | ------- | ------- | ------- |\n",
        "| on     | 0.6 μW  | 0.6 μW  | 1.9 μW  |\n",
        "| off    | 3.6 nW  | 0.5 nW  | 1.5 nW  |"
      ],
      "metadata": {
        "collapsed": false,
        "outputHidden": false,
        "inputHidden": false
      }
    },
    {
      "cell_type": "code",
      "source": [
        "10 * log10(2000 / 0.6), 10 * log10(1430 / 0.6), 10 * log10(1250 / 1.9)"
      ],
      "outputs": [
        {
          "output_type": "execute_result",
          "execution_count": 7,
          "data": {
            "text/plain": [
              "(35.228787452803374, 33.77184787081418, 28.181564120552274)"
            ]
          },
          "metadata": {}
        }
      ],
      "execution_count": 7,
      "metadata": {
        "collapsed": false,
        "outputHidden": false,
        "inputHidden": false
      }
    },
    {
      "cell_type": "code",
      "source": [
        "10 * log10(2000 / 3.6e-3), 10 * log10(1430 / 0.5e-3), 10 * log10(1250 / 1.5e-3)"
      ],
      "outputs": [
        {
          "output_type": "execute_result",
          "execution_count": 8,
          "data": {
            "text/plain": [
              "(57.447274948966935, 64.56366033129042, 59.20818753952375)"
            ]
          },
          "metadata": {}
        }
      ],
      "execution_count": 8,
      "metadata": {
        "collapsed": false,
        "outputHidden": false,
        "inputHidden": false
      }
    },
    {
      "cell_type": "markdown",
      "source": [
        "Using an optical signal close to saturation power of the photodiode and the measured deviation of background light we find the SNRs to be:\n",
        "\n",
        "| Lights | 450 nm  | 550 nm  | 1050 nm |\n",
        "| ------ | ------- | ------- | ------- |\n",
        "| on     | 35 dB   | 34 dB   | 28 dB   |\n",
        "| off    | 57 dB   | 65 dB   | 59 dB   |\n",
        "\n",
        "The datasheet of the S5990 reports a typical spatial resolution of 0.7 μm at a photo current of 1 μA. Let's discuss how the background light noise behaves under these circumstances.\n",
        "\n",
        "| Wavelength | 450 nm  | 550 nm  | 1050 nm |\n",
        "| ---------- | ------- | ------- | ------- |\n",
        "| Opt. power | 4 μW    | 3 μW    | 2 μW    |"
      ],
      "metadata": {
        "collapsed": false,
        "outputHidden": false,
        "inputHidden": false
      }
    },
    {
      "cell_type": "code",
      "source": [
        "10 * log10(4 / 0.6), 10 * log10(3 / 0.6), 10 * log10(2 / 1.9)"
      ],
      "outputs": [
        {
          "output_type": "execute_result",
          "execution_count": 9,
          "data": {
            "text/plain": [
              "(8.239087409443188, 6.989700043360188, 0.2227639471115221)"
            ]
          },
          "metadata": {}
        }
      ],
      "execution_count": 9,
      "metadata": {
        "collapsed": false,
        "outputHidden": false,
        "inputHidden": false
      }
    },
    {
      "cell_type": "code",
      "source": [
        "10 * log10(4 / 3.6e-3), 10 * log10(3 / 0.5e-3), 10 * log10(2 / 1.5e-3)"
      ],
      "outputs": [
        {
          "output_type": "execute_result",
          "execution_count": 10,
          "data": {
            "text/plain": [
              "(30.45757490560675, 37.78151250383643, 31.249387366083)"
            ]
          },
          "metadata": {}
        }
      ],
      "execution_count": 10,
      "metadata": {
        "collapsed": false,
        "outputHidden": false,
        "inputHidden": false
      }
    },
    {
      "cell_type": "markdown",
      "source": [
        "The SNR for a photo current of 1 μA where we expect the detector to have the highest spatial resolution given the background light noise are listed below.\n",
        "\n",
        "| Lights | 450 nm  | 550 nm  | 1050 nm |\n",
        "| ------ | ------- | ------- | ------- |\n",
        "| on     | 8 dB    | 7 dB    | 0 dB    |\n",
        "| off    | 30 dB   | 38 dB   | 31 dB   |\n",
        "\nUnder lights on condition we will not be able to get any useful signal of at 1050 nm wavelength. We should therefore at least use some type cover around the detector or a neutral-density (ND) filter."
      ],
      "metadata": {
        "collapsed": false,
        "outputHidden": false,
        "inputHidden": false
      }
    },
    {
      "cell_type": "markdown",
      "source": [
        "## Electronic signal\n",
        "\n",
        "The discussions of the previous part were limited to the optical signal. Due to the interaction of the photons with the photodiode electron-hole pairs are created. The conversion of a photon to an electron is usually determined by the quantum efficiency (QE). Given a QE characteristic for the photodiode and wavelength $0<\\eta(\\lambda)<1$, the SNR of the signal due to photon shot noise is given by,\n",
        "$$\n",
        "\\text{SNR}_m=\\eta \\frac{P\\lambda}{Bhc}.\n",
        "$$\n",
        "In the case of our position-sensitive detector we are not given a QE but a sensitivity $S(\\lambda)$ which directly relates the power of the optical signal to the electric current, i.e.\n",
        "$$\n",
        "I_\\text{photo}=S(\\lambda)P.\n",
        "$$\n",
        "Then the SNR reads,\n",
        "$$\n",
        "SNR_m=\\frac{S(\\lambda)P}{e_0B},\n",
        "$$\n",
        "with $e_0$ being the electric charge."
      ],
      "metadata": {}
    },
    {
      "cell_type": "code",
      "source": [
        "function SNR_m(S::typeof(1.0u\"A/W\"), P::Unitful.Power, B::Unitful.Frequency)\n",
        "    e0 = Unitful.q\n",
        "    \n",
        "    return 10 * log10(upreferred(S * P / (B * e0))) \n",
        "end"
      ],
      "outputs": [
        {
          "output_type": "execute_result",
          "execution_count": 178,
          "data": {
            "text/plain": [
              "SNR_m (generic function with 1 method)"
            ]
          },
          "metadata": {}
        }
      ],
      "execution_count": 178,
      "metadata": {
        "collapsed": false,
        "outputHidden": false,
        "inputHidden": false
      }
    },
    {
      "cell_type": "markdown",
      "source": [
        "The datasheet of the S5990 photodiode gives a diagram of $S(\\lambda)$. We extract the usual values here.\n",
        "\n",
        "| Wavelength  | 450 nm   | 550 nm   | 1050 nm |\n",
        "| ----------- | -------- | -------- | ------- |\n",
        "| Sensitivity | 0.25 A/W | 0.35 A/W | 0.4 A/W |"
      ],
      "metadata": {
        "collapsed": false,
        "outputHidden": false,
        "inputHidden": false
      }
    },
    {
      "cell_type": "code",
      "source": [
        "SNR_m(0.25u\"A/W\", 100u\"μW\", 10u\"kHz\"), SNR_m(0.35u\"A/W\", 100u\"μW\", 10u\"kHz\"), SNR_m(0.4u\"A/W\", 100u\"μW\", 10u\"kHz\")"
      ],
      "outputs": [
        {
          "output_type": "execute_result",
          "execution_count": 77,
          "data": {
            "text/plain": [
              "(101.93229618515113, 103.39357654193351, 103.97349601171038)"
            ]
          },
          "metadata": {}
        }
      ],
      "execution_count": 77,
      "metadata": {
        "collapsed": false,
        "outputHidden": false,
        "inputHidden": false
      }
    },
    {
      "cell_type": "markdown",
      "source": [
        "So in fact the SNR does of the signal does not change itself and remains at about 100 dB."
      ],
      "metadata": {
        "collapsed": false,
        "outputHidden": false,
        "inputHidden": false
      }
    },
    {
      "cell_type": "markdown",
      "source": [
        "### Photodiode\n",
        "\n",
        "Up until now we assumed a perfect photodiode. Noise contributions due to imperfections include thermal (Johnson-Nyquist) and current shot noise.\n",
        "\n",
        "#### Current shot noise\n",
        "\n",
        "Current shot noise stems from the discrete nature of the charge and thereto can be trated analogue to the photon shot noise we discussed earlier. The variance of current shot noise is given by,\n",
        "$$\n",
        "\\sigma^2=2e_0IB.\n",
        "$$\n",
        "In a photodiode we have two types of current: Photo current $I_\\text{photo}$ due to electron-hole excitations by photons and dark current $I_\\text{dark}$ due to thermal excitation of electron-holes.\n",
        "$$\n",
        "\\begin{aligned}\n",
        "\\sigma_\\text{photo}^2=2e_0I_\\text{photo}B &&\n",
        "\\sigma_\\text{dark}^2=2e_0I_\\text{dark}B\n",
        "\\end{aligned}\n",
        "$$"
      ],
      "metadata": {
        "collapsed": false,
        "outputHidden": false,
        "inputHidden": false
      }
    },
    {
      "cell_type": "code",
      "source": [
        "function shot_noise_current(I::Unitful.Current, B::Unitful.Frequency)\n",
        "    e0 = Unitful.q\n",
        "    \n",
        "    return upreferred(sqrt(2 * e0 * I * B))\n",
        "end"
      ],
      "outputs": [
        {
          "output_type": "execute_result",
          "execution_count": 34,
          "data": {
            "text/plain": [
              "shot_noise_current (generic function with 1 method)"
            ]
          },
          "metadata": {}
        }
      ],
      "execution_count": 34,
      "metadata": {}
    },
    {
      "cell_type": "code",
      "source": [
        "shot_noise_current(1u\"μA\", 10u\"kHz\"), shot_noise_current(500u\"μA\", 10u\"kHz\")"
      ],
      "outputs": [
        {
          "output_type": "execute_result",
          "execution_count": 15,
          "data": {
            "text/plain": [
              "(5.660700700090051e-11 A, 1.2657711565682004e-9 A)"
            ]
          },
          "metadata": {}
        }
      ],
      "execution_count": 15,
      "metadata": {
        "collapsed": false,
        "outputHidden": false,
        "inputHidden": false
      }
    },
    {
      "cell_type": "code",
      "source": [
        "shot_noise_current(100u\"pA\", 10u\"kHz\"), shot_noise_current(500u\"pA\", 10u\"kHz\"), shot_noise_current(10u\"nA\", 10u\"kHz\")"
      ],
      "outputs": [
        {
          "output_type": "execute_result",
          "execution_count": 14,
          "data": {
            "text/plain": [
              "(5.660700700090052e-13 A, 1.2657711565682006e-12 A, 5.6607007000900515e-12 A)"
            ]
          },
          "metadata": {}
        }
      ],
      "execution_count": 14,
      "metadata": {
        "collapsed": false,
        "outputHidden": false,
        "inputHidden": false
      }
    },
    {
      "cell_type": "markdown",
      "source": [
        "#### Thermal (Johnson-Nyquist) noise\n",
        "\n",
        "Due to the resistance of the photodiode there will be heat dissipation which according to the fluctuation-dissipation theorem causes current variation of,\n",
        "$$\n",
        "\\sigma^2_\\text{thermal}=\\frac{4k_BT}{RB},\n",
        "$$\n",
        "wherein $k_B$ is the Boltzmann constant, $T$ the temperature and $R$ the resistance of the photodiode."
      ],
      "metadata": {
        "collapsed": false,
        "outputHidden": false,
        "inputHidden": false
      }
    },
    {
      "cell_type": "code",
      "source": [
        "function thermal_noise_current(T::Unitful.Temperature, R::Unitful.ElectricalResistance, B::Unitful.Frequency)\n",
        "    kB = Unitful.k\n",
        "    T = uconvert(u\"K\", T)\n",
        "    \n",
        "    return upreferred(sqrt(4 * kB * T * B / R))\n",
        "end"
      ],
      "outputs": [
        {
          "output_type": "execute_result",
          "execution_count": 33,
          "data": {
            "text/plain": [
              "thermal_noise_current (generic function with 1 method)"
            ]
          },
          "metadata": {}
        }
      ],
      "execution_count": 33,
      "metadata": {}
    },
    {
      "cell_type": "code",
      "source": [
        "thermal_noise_current(23u\"°C\", 5u\"kΩ\", 10u\"kHz\"), thermal_noise_current(23u\"°C\", 7u\"kΩ\", 10u\"kHz\"), thermal_noise_current(23u\"°C\", 15u\"kΩ\", 10u\"kHz\")"
      ],
      "outputs": [
        {
          "output_type": "execute_result",
          "execution_count": 17,
          "data": {
            "text/plain": [
              "(1.808599589069952e-10 A, 1.5285456378027166e-10 A, 1.0441954596057833e-10 A)"
            ]
          },
          "metadata": {}
        }
      ],
      "execution_count": 17,
      "metadata": {
        "collapsed": false,
        "outputHidden": false,
        "inputHidden": false
      }
    },
    {
      "cell_type": "markdown",
      "source": [
        "We summarize the current noises below.\n",
        "\n",
        "| Source           | Min    | Max    |\n",
        "| ---------------- | ------ | ------ |\n",
        "| Thermal noise    | 0.1 nA | 0.2 nA |\n",
        "| Dark shot noise  | 0.6 pA | 6 pA   |\n",
        "| Photo shot noise | 0.6 pA | 1.3 nA |\n",
        "\nWe use linear interpolation to give the photo shot noise dependency on the photo current. For thermal and dark shot noise we use the maximum value as upper bound."
      ],
      "metadata": {
        "collapsed": false,
        "outputHidden": false,
        "inputHidden": false
      }
    },
    {
      "cell_type": "code",
      "source": [
        "x = (1:500) .* 1e-6\n",
        "y1 = 0.2e-9 .* ones(length(x))\n",
        "y2 = 6e-12 .* ones(length(x))\n",
        "y3 = 0.6e-12 .+ (1.3e-9 - 0.6e-12) / (maximum(x) - minimum(x)) .* x\n",
        "\n",
        "plot(x ./ 1e-6, [y1 ./ 1e-9, y2 ./ 1e-9, y3 ./ 1e-9, sqrt.(y1.^2 + y2.^2 + y3.^2) ./ 1e-9], label=[\"Thermal noise\", \"Dark shot noise\", \"Photo shot noise\", \"Combined\"])\n",
        "\n",
        "xlabel!(\"Photo current (uA)\")\n",
        "ylabel!(\"Noise current (pA)\")"
      ],
      "outputs": [
        {
          "output_type": "execute_result",
          "execution_count": 60,
          "data": {
            "image/svg+xml": [
              "<?xml version=\"1.0\" encoding=\"utf-8\"?>\n",
              "<svg xmlns=\"http://www.w3.org/2000/svg\" xmlns:xlink=\"http://www.w3.org/1999/xlink\" width=\"600\" height=\"400\" viewBox=\"0 0 2400 1600\">\n",
              "<defs>\n",
              "  <clipPath id=\"clip9400\">\n",
              "    <rect x=\"0\" y=\"0\" width=\"2000\" height=\"2000\"/>\n",
              "  </clipPath>\n",
              "</defs>\n",
              "<defs>\n",
              "  <clipPath id=\"clip9401\">\n",
              "    <rect x=\"0\" y=\"0\" width=\"2400\" height=\"1600\"/>\n",
              "  </clipPath>\n",
              "</defs>\n",
              "<polygon clip-path=\"url(#clip9401)\" points=\"\n",
              "0,1600 2400,1600 2400,0 0,0 \n",
              "  \" fill=\"#282c34\" fill-rule=\"evenodd\" fill-opacity=\"1\"/>\n",
              "<defs>\n",
              "  <clipPath id=\"clip9402\">\n",
              "    <rect x=\"480\" y=\"0\" width=\"1681\" height=\"1600\"/>\n",
              "  </clipPath>\n",
              "</defs>\n",
              "<polygon clip-path=\"url(#clip9401)\" points=\"\n",
              "224.386,1440.48 2321.26,1440.48 2321.26,47.2441 224.386,47.2441 \n",
              "  \" fill=\"#20242b\" fill-rule=\"evenodd\" fill-opacity=\"1\"/>\n",
              "<defs>\n",
              "  <clipPath id=\"clip9403\">\n",
              "    <rect x=\"224\" y=\"47\" width=\"2098\" height=\"1394\"/>\n",
              "  </clipPath>\n",
              "</defs>\n",
              "<polyline clip-path=\"url(#clip9403)\" style=\"stroke:#adb2b7; stroke-width:2; stroke-opacity:0.1; fill:none\" points=\"\n",
              "  279.767,1440.48 279.767,47.2441 \n",
              "  \"/>\n",
              "<polyline clip-path=\"url(#clip9403)\" style=\"stroke:#adb2b7; stroke-width:2; stroke-opacity:0.1; fill:none\" points=\"\n",
              "  676.197,1440.48 676.197,47.2441 \n",
              "  \"/>\n",
              "<polyline clip-path=\"url(#clip9403)\" style=\"stroke:#adb2b7; stroke-width:2; stroke-opacity:0.1; fill:none\" points=\"\n",
              "  1072.63,1440.48 1072.63,47.2441 \n",
              "  \"/>\n",
              "<polyline clip-path=\"url(#clip9403)\" style=\"stroke:#adb2b7; stroke-width:2; stroke-opacity:0.1; fill:none\" points=\"\n",
              "  1469.06,1440.48 1469.06,47.2441 \n",
              "  \"/>\n",
              "<polyline clip-path=\"url(#clip9403)\" style=\"stroke:#adb2b7; stroke-width:2; stroke-opacity:0.1; fill:none\" points=\"\n",
              "  1865.48,1440.48 1865.48,47.2441 \n",
              "  \"/>\n",
              "<polyline clip-path=\"url(#clip9403)\" style=\"stroke:#adb2b7; stroke-width:2; stroke-opacity:0.1; fill:none\" points=\"\n",
              "  2261.91,1440.48 2261.91,47.2441 \n",
              "  \"/>\n",
              "<polyline clip-path=\"url(#clip9403)\" style=\"stroke:#adb2b7; stroke-width:2; stroke-opacity:0.1; fill:none\" points=\"\n",
              "  224.386,1404.25 2321.26,1404.25 \n",
              "  \"/>\n",
              "<polyline clip-path=\"url(#clip9403)\" style=\"stroke:#adb2b7; stroke-width:2; stroke-opacity:0.1; fill:none\" points=\"\n",
              "  224.386,1204.3 2321.26,1204.3 \n",
              "  \"/>\n",
              "<polyline clip-path=\"url(#clip9403)\" style=\"stroke:#adb2b7; stroke-width:2; stroke-opacity:0.1; fill:none\" points=\"\n",
              "  224.386,1004.35 2321.26,1004.35 \n",
              "  \"/>\n",
              "<polyline clip-path=\"url(#clip9403)\" style=\"stroke:#adb2b7; stroke-width:2; stroke-opacity:0.1; fill:none\" points=\"\n",
              "  224.386,804.392 2321.26,804.392 \n",
              "  \"/>\n",
              "<polyline clip-path=\"url(#clip9403)\" style=\"stroke:#adb2b7; stroke-width:2; stroke-opacity:0.1; fill:none\" points=\"\n",
              "  224.386,604.438 2321.26,604.438 \n",
              "  \"/>\n",
              "<polyline clip-path=\"url(#clip9403)\" style=\"stroke:#adb2b7; stroke-width:2; stroke-opacity:0.1; fill:none\" points=\"\n",
              "  224.386,404.484 2321.26,404.484 \n",
              "  \"/>\n",
              "<polyline clip-path=\"url(#clip9403)\" style=\"stroke:#adb2b7; stroke-width:2; stroke-opacity:0.1; fill:none\" points=\"\n",
              "  224.386,204.53 2321.26,204.53 \n",
              "  \"/>\n",
              "<polyline clip-path=\"url(#clip9401)\" style=\"stroke:#adb2b7; stroke-width:4; stroke-opacity:1; fill:none\" points=\"\n",
              "  224.386,1440.48 2321.26,1440.48 \n",
              "  \"/>\n",
              "<polyline clip-path=\"url(#clip9401)\" style=\"stroke:#adb2b7; stroke-width:4; stroke-opacity:1; fill:none\" points=\"\n",
              "  224.386,1440.48 224.386,47.2441 \n",
              "  \"/>\n",
              "<polyline clip-path=\"url(#clip9401)\" style=\"stroke:#adb2b7; stroke-width:4; stroke-opacity:1; fill:none\" points=\"\n",
              "  279.767,1440.48 279.767,1419.58 \n",
              "  \"/>\n",
              "<polyline clip-path=\"url(#clip9401)\" style=\"stroke:#adb2b7; stroke-width:4; stroke-opacity:1; fill:none\" points=\"\n",
              "  676.197,1440.48 676.197,1419.58 \n",
              "  \"/>\n",
              "<polyline clip-path=\"url(#clip9401)\" style=\"stroke:#adb2b7; stroke-width:4; stroke-opacity:1; fill:none\" points=\"\n",
              "  1072.63,1440.48 1072.63,1419.58 \n",
              "  \"/>\n",
              "<polyline clip-path=\"url(#clip9401)\" style=\"stroke:#adb2b7; stroke-width:4; stroke-opacity:1; fill:none\" points=\"\n",
              "  1469.06,1440.48 1469.06,1419.58 \n",
              "  \"/>\n",
              "<polyline clip-path=\"url(#clip9401)\" style=\"stroke:#adb2b7; stroke-width:4; stroke-opacity:1; fill:none\" points=\"\n",
              "  1865.48,1440.48 1865.48,1419.58 \n",
              "  \"/>\n",
              "<polyline clip-path=\"url(#clip9401)\" style=\"stroke:#adb2b7; stroke-width:4; stroke-opacity:1; fill:none\" points=\"\n",
              "  2261.91,1440.48 2261.91,1419.58 \n",
              "  \"/>\n",
              "<polyline clip-path=\"url(#clip9401)\" style=\"stroke:#adb2b7; stroke-width:4; stroke-opacity:1; fill:none\" points=\"\n",
              "  224.386,1404.25 255.839,1404.25 \n",
              "  \"/>\n",
              "<polyline clip-path=\"url(#clip9401)\" style=\"stroke:#adb2b7; stroke-width:4; stroke-opacity:1; fill:none\" points=\"\n",
              "  224.386,1204.3 255.839,1204.3 \n",
              "  \"/>\n",
              "<polyline clip-path=\"url(#clip9401)\" style=\"stroke:#adb2b7; stroke-width:4; stroke-opacity:1; fill:none\" points=\"\n",
              "  224.386,1004.35 255.839,1004.35 \n",
              "  \"/>\n",
              "<polyline clip-path=\"url(#clip9401)\" style=\"stroke:#adb2b7; stroke-width:4; stroke-opacity:1; fill:none\" points=\"\n",
              "  224.386,804.392 255.839,804.392 \n",
              "  \"/>\n",
              "<polyline clip-path=\"url(#clip9401)\" style=\"stroke:#adb2b7; stroke-width:4; stroke-opacity:1; fill:none\" points=\"\n",
              "  224.386,604.438 255.839,604.438 \n",
              "  \"/>\n",
              "<polyline clip-path=\"url(#clip9401)\" style=\"stroke:#adb2b7; stroke-width:4; stroke-opacity:1; fill:none\" points=\"\n",
              "  224.386,404.484 255.839,404.484 \n",
              "  \"/>\n",
              "<polyline clip-path=\"url(#clip9401)\" style=\"stroke:#adb2b7; stroke-width:4; stroke-opacity:1; fill:none\" points=\"\n",
              "  224.386,204.53 255.839,204.53 \n",
              "  \"/>\n",
              "<g clip-path=\"url(#clip9401)\">\n",
              "<text style=\"fill:#9e9e9e; fill-opacity:1; font-family:Arial,Helvetica Neue,Helvetica,sans-serif; font-size:48px; text-anchor:middle;\" transform=\"rotate(0, 279.767, 1494.48)\" x=\"279.767\" y=\"1494.48\">0</text>\n",
              "</g>\n",
              "<g clip-path=\"url(#clip9401)\">\n",
              "<text style=\"fill:#9e9e9e; fill-opacity:1; font-family:Arial,Helvetica Neue,Helvetica,sans-serif; font-size:48px; text-anchor:middle;\" transform=\"rotate(0, 676.197, 1494.48)\" x=\"676.197\" y=\"1494.48\">100</text>\n",
              "</g>\n",
              "<g clip-path=\"url(#clip9401)\">\n",
              "<text style=\"fill:#9e9e9e; fill-opacity:1; font-family:Arial,Helvetica Neue,Helvetica,sans-serif; font-size:48px; text-anchor:middle;\" transform=\"rotate(0, 1072.63, 1494.48)\" x=\"1072.63\" y=\"1494.48\">200</text>\n",
              "</g>\n",
              "<g clip-path=\"url(#clip9401)\">\n",
              "<text style=\"fill:#9e9e9e; fill-opacity:1; font-family:Arial,Helvetica Neue,Helvetica,sans-serif; font-size:48px; text-anchor:middle;\" transform=\"rotate(0, 1469.06, 1494.48)\" x=\"1469.06\" y=\"1494.48\">300</text>\n",
              "</g>\n",
              "<g clip-path=\"url(#clip9401)\">\n",
              "<text style=\"fill:#9e9e9e; fill-opacity:1; font-family:Arial,Helvetica Neue,Helvetica,sans-serif; font-size:48px; text-anchor:middle;\" transform=\"rotate(0, 1865.48, 1494.48)\" x=\"1865.48\" y=\"1494.48\">400</text>\n",
              "</g>\n",
              "<g clip-path=\"url(#clip9401)\">\n",
              "<text style=\"fill:#9e9e9e; fill-opacity:1; font-family:Arial,Helvetica Neue,Helvetica,sans-serif; font-size:48px; text-anchor:middle;\" transform=\"rotate(0, 2261.91, 1494.48)\" x=\"2261.91\" y=\"1494.48\">500</text>\n",
              "</g>\n",
              "<g clip-path=\"url(#clip9401)\">\n",
              "<text style=\"fill:#9e9e9e; fill-opacity:1; font-family:Arial,Helvetica Neue,Helvetica,sans-serif; font-size:48px; text-anchor:end;\" transform=\"rotate(0, 200.386, 1421.75)\" x=\"200.386\" y=\"1421.75\">0.0</text>\n",
              "</g>\n",
              "<g clip-path=\"url(#clip9401)\">\n",
              "<text style=\"fill:#9e9e9e; fill-opacity:1; font-family:Arial,Helvetica Neue,Helvetica,sans-serif; font-size:48px; text-anchor:end;\" transform=\"rotate(0, 200.386, 1221.8)\" x=\"200.386\" y=\"1221.8\">0.2</text>\n",
              "</g>\n",
              "<g clip-path=\"url(#clip9401)\">\n",
              "<text style=\"fill:#9e9e9e; fill-opacity:1; font-family:Arial,Helvetica Neue,Helvetica,sans-serif; font-size:48px; text-anchor:end;\" transform=\"rotate(0, 200.386, 1021.85)\" x=\"200.386\" y=\"1021.85\">0.4</text>\n",
              "</g>\n",
              "<g clip-path=\"url(#clip9401)\">\n",
              "<text style=\"fill:#9e9e9e; fill-opacity:1; font-family:Arial,Helvetica Neue,Helvetica,sans-serif; font-size:48px; text-anchor:end;\" transform=\"rotate(0, 200.386, 821.892)\" x=\"200.386\" y=\"821.892\">0.6</text>\n",
              "</g>\n",
              "<g clip-path=\"url(#clip9401)\">\n",
              "<text style=\"fill:#9e9e9e; fill-opacity:1; font-family:Arial,Helvetica Neue,Helvetica,sans-serif; font-size:48px; text-anchor:end;\" transform=\"rotate(0, 200.386, 621.938)\" x=\"200.386\" y=\"621.938\">0.8</text>\n",
              "</g>\n",
              "<g clip-path=\"url(#clip9401)\">\n",
              "<text style=\"fill:#9e9e9e; fill-opacity:1; font-family:Arial,Helvetica Neue,Helvetica,sans-serif; font-size:48px; text-anchor:end;\" transform=\"rotate(0, 200.386, 421.984)\" x=\"200.386\" y=\"421.984\">1.0</text>\n",
              "</g>\n",
              "<g clip-path=\"url(#clip9401)\">\n",
              "<text style=\"fill:#9e9e9e; fill-opacity:1; font-family:Arial,Helvetica Neue,Helvetica,sans-serif; font-size:48px; text-anchor:end;\" transform=\"rotate(0, 200.386, 222.03)\" x=\"200.386\" y=\"222.03\">1.2</text>\n",
              "</g>\n",
              "<g clip-path=\"url(#clip9401)\">\n",
              "<text style=\"fill:#9e9e9e; fill-opacity:1; font-family:Arial,Helvetica Neue,Helvetica,sans-serif; font-size:66px; text-anchor:middle;\" transform=\"rotate(0, 1272.82, 1590.4)\" x=\"1272.82\" y=\"1590.4\">Photo current (uA)</text>\n",
              "</g>\n",
              "<g clip-path=\"url(#clip9401)\">\n",
              "<text style=\"fill:#9e9e9e; fill-opacity:1; font-family:Arial,Helvetica Neue,Helvetica,sans-serif; font-size:66px; text-anchor:middle;\" transform=\"rotate(-90, 57.6, 743.863)\" x=\"57.6\" y=\"743.863\">Noise current (pA)</text>\n",
              "</g>\n",
              "<polyline clip-path=\"url(#clip9403)\" style=\"stroke:#fe4365; stroke-width:4; stroke-opacity:1; fill:none\" points=\"\n",
              "  283.732,1204.3 287.696,1204.3 291.66,1204.3 295.625,1204.3 299.589,1204.3 303.553,1204.3 307.517,1204.3 311.482,1204.3 315.446,1204.3 319.41,1204.3 \n",
              "  323.375,1204.3 327.339,1204.3 331.303,1204.3 335.267,1204.3 339.232,1204.3 343.196,1204.3 347.16,1204.3 351.125,1204.3 355.089,1204.3 359.053,1204.3 \n",
              "  363.018,1204.3 366.982,1204.3 370.946,1204.3 374.91,1204.3 378.875,1204.3 382.839,1204.3 386.803,1204.3 390.768,1204.3 394.732,1204.3 398.696,1204.3 \n",
              "  402.66,1204.3 406.625,1204.3 410.589,1204.3 414.553,1204.3 418.518,1204.3 422.482,1204.3 426.446,1204.3 430.411,1204.3 434.375,1204.3 438.339,1204.3 \n",
              "  442.303,1204.3 446.268,1204.3 450.232,1204.3 454.196,1204.3 458.161,1204.3 462.125,1204.3 466.089,1204.3 470.053,1204.3 474.018,1204.3 477.982,1204.3 \n",
              "  481.946,1204.3 485.911,1204.3 489.875,1204.3 493.839,1204.3 497.804,1204.3 501.768,1204.3 505.732,1204.3 509.696,1204.3 513.661,1204.3 517.625,1204.3 \n",
              "  521.589,1204.3 525.554,1204.3 529.518,1204.3 533.482,1204.3 537.446,1204.3 541.411,1204.3 545.375,1204.3 549.339,1204.3 553.304,1204.3 557.268,1204.3 \n",
              "  561.232,1204.3 565.197,1204.3 569.161,1204.3 573.125,1204.3 577.089,1204.3 581.054,1204.3 585.018,1204.3 588.982,1204.3 592.947,1204.3 596.911,1204.3 \n",
              "  600.875,1204.3 604.839,1204.3 608.804,1204.3 612.768,1204.3 616.732,1204.3 620.697,1204.3 624.661,1204.3 628.625,1204.3 632.59,1204.3 636.554,1204.3 \n",
              "  640.518,1204.3 644.482,1204.3 648.447,1204.3 652.411,1204.3 656.375,1204.3 660.34,1204.3 664.304,1204.3 668.268,1204.3 672.232,1204.3 676.197,1204.3 \n",
              "  680.161,1204.3 684.125,1204.3 688.09,1204.3 692.054,1204.3 696.018,1204.3 699.983,1204.3 703.947,1204.3 707.911,1204.3 711.875,1204.3 715.84,1204.3 \n",
              "  719.804,1204.3 723.768,1204.3 727.733,1204.3 731.697,1204.3 735.661,1204.3 739.625,1204.3 743.59,1204.3 747.554,1204.3 751.518,1204.3 755.483,1204.3 \n",
              "  759.447,1204.3 763.411,1204.3 767.376,1204.3 771.34,1204.3 775.304,1204.3 779.268,1204.3 783.233,1204.3 787.197,1204.3 791.161,1204.3 795.126,1204.3 \n",
              "  799.09,1204.3 803.054,1204.3 807.018,1204.3 810.983,1204.3 814.947,1204.3 818.911,1204.3 822.876,1204.3 826.84,1204.3 830.804,1204.3 834.769,1204.3 \n",
              "  838.733,1204.3 842.697,1204.3 846.661,1204.3 850.626,1204.3 854.59,1204.3 858.554,1204.3 862.519,1204.3 866.483,1204.3 870.447,1204.3 874.411,1204.3 \n",
              "  878.376,1204.3 882.34,1204.3 886.304,1204.3 890.269,1204.3 894.233,1204.3 898.197,1204.3 902.162,1204.3 906.126,1204.3 910.09,1204.3 914.054,1204.3 \n",
              "  918.019,1204.3 921.983,1204.3 925.947,1204.3 929.912,1204.3 933.876,1204.3 937.84,1204.3 941.804,1204.3 945.769,1204.3 949.733,1204.3 953.697,1204.3 \n",
              "  957.662,1204.3 961.626,1204.3 965.59,1204.3 969.555,1204.3 973.519,1204.3 977.483,1204.3 981.447,1204.3 985.412,1204.3 989.376,1204.3 993.34,1204.3 \n",
              "  997.305,1204.3 1001.27,1204.3 1005.23,1204.3 1009.2,1204.3 1013.16,1204.3 1017.13,1204.3 1021.09,1204.3 1025.05,1204.3 1029.02,1204.3 1032.98,1204.3 \n",
              "  1036.95,1204.3 1040.91,1204.3 1044.88,1204.3 1048.84,1204.3 1052.8,1204.3 1056.77,1204.3 1060.73,1204.3 1064.7,1204.3 1068.66,1204.3 1072.63,1204.3 \n",
              "  1076.59,1204.3 1080.55,1204.3 1084.52,1204.3 1088.48,1204.3 1092.45,1204.3 1096.41,1204.3 1100.38,1204.3 1104.34,1204.3 1108.3,1204.3 1112.27,1204.3 \n",
              "  1116.23,1204.3 1120.2,1204.3 1124.16,1204.3 1128.13,1204.3 1132.09,1204.3 1136.05,1204.3 1140.02,1204.3 1143.98,1204.3 1147.95,1204.3 1151.91,1204.3 \n",
              "  1155.88,1204.3 1159.84,1204.3 1163.8,1204.3 1167.77,1204.3 1171.73,1204.3 1175.7,1204.3 1179.66,1204.3 1183.63,1204.3 1187.59,1204.3 1191.55,1204.3 \n",
              "  1195.52,1204.3 1199.48,1204.3 1203.45,1204.3 1207.41,1204.3 1211.38,1204.3 1215.34,1204.3 1219.31,1204.3 1223.27,1204.3 1227.23,1204.3 1231.2,1204.3 \n",
              "  1235.16,1204.3 1239.13,1204.3 1243.09,1204.3 1247.06,1204.3 1251.02,1204.3 1254.98,1204.3 1258.95,1204.3 1262.91,1204.3 1266.88,1204.3 1270.84,1204.3 \n",
              "  1274.81,1204.3 1278.77,1204.3 1282.73,1204.3 1286.7,1204.3 1290.66,1204.3 1294.63,1204.3 1298.59,1204.3 1302.56,1204.3 1306.52,1204.3 1310.48,1204.3 \n",
              "  1314.45,1204.3 1318.41,1204.3 1322.38,1204.3 1326.34,1204.3 1330.31,1204.3 1334.27,1204.3 1338.23,1204.3 1342.2,1204.3 1346.16,1204.3 1350.13,1204.3 \n",
              "  1354.09,1204.3 1358.06,1204.3 1362.02,1204.3 1365.98,1204.3 1369.95,1204.3 1373.91,1204.3 1377.88,1204.3 1381.84,1204.3 1385.81,1204.3 1389.77,1204.3 \n",
              "  1393.73,1204.3 1397.7,1204.3 1401.66,1204.3 1405.63,1204.3 1409.59,1204.3 1413.56,1204.3 1417.52,1204.3 1421.48,1204.3 1425.45,1204.3 1429.41,1204.3 \n",
              "  1433.38,1204.3 1437.34,1204.3 1441.31,1204.3 1445.27,1204.3 1449.23,1204.3 1453.2,1204.3 1457.16,1204.3 1461.13,1204.3 1465.09,1204.3 1469.06,1204.3 \n",
              "  1473.02,1204.3 1476.98,1204.3 1480.95,1204.3 1484.91,1204.3 1488.88,1204.3 1492.84,1204.3 1496.81,1204.3 1500.77,1204.3 1504.73,1204.3 1508.7,1204.3 \n",
              "  1512.66,1204.3 1516.63,1204.3 1520.59,1204.3 1524.56,1204.3 1528.52,1204.3 1532.48,1204.3 1536.45,1204.3 1540.41,1204.3 1544.38,1204.3 1548.34,1204.3 \n",
              "  1552.31,1204.3 1556.27,1204.3 1560.23,1204.3 1564.2,1204.3 1568.16,1204.3 1572.13,1204.3 1576.09,1204.3 1580.06,1204.3 1584.02,1204.3 1587.98,1204.3 \n",
              "  1591.95,1204.3 1595.91,1204.3 1599.88,1204.3 1603.84,1204.3 1607.81,1204.3 1611.77,1204.3 1615.73,1204.3 1619.7,1204.3 1623.66,1204.3 1627.63,1204.3 \n",
              "  1631.59,1204.3 1635.56,1204.3 1639.52,1204.3 1643.48,1204.3 1647.45,1204.3 1651.41,1204.3 1655.38,1204.3 1659.34,1204.3 1663.31,1204.3 1667.27,1204.3 \n",
              "  1671.23,1204.3 1675.2,1204.3 1679.16,1204.3 1683.13,1204.3 1687.09,1204.3 1691.06,1204.3 1695.02,1204.3 1698.98,1204.3 1702.95,1204.3 1706.91,1204.3 \n",
              "  1710.88,1204.3 1714.84,1204.3 1718.81,1204.3 1722.77,1204.3 1726.73,1204.3 1730.7,1204.3 1734.66,1204.3 1738.63,1204.3 1742.59,1204.3 1746.56,1204.3 \n",
              "  1750.52,1204.3 1754.48,1204.3 1758.45,1204.3 1762.41,1204.3 1766.38,1204.3 1770.34,1204.3 1774.31,1204.3 1778.27,1204.3 1782.23,1204.3 1786.2,1204.3 \n",
              "  1790.16,1204.3 1794.13,1204.3 1798.09,1204.3 1802.06,1204.3 1806.02,1204.3 1809.98,1204.3 1813.95,1204.3 1817.91,1204.3 1821.88,1204.3 1825.84,1204.3 \n",
              "  1829.81,1204.3 1833.77,1204.3 1837.73,1204.3 1841.7,1204.3 1845.66,1204.3 1849.63,1204.3 1853.59,1204.3 1857.56,1204.3 1861.52,1204.3 1865.48,1204.3 \n",
              "  1869.45,1204.3 1873.41,1204.3 1877.38,1204.3 1881.34,1204.3 1885.31,1204.3 1889.27,1204.3 1893.24,1204.3 1897.2,1204.3 1901.16,1204.3 1905.13,1204.3 \n",
              "  1909.09,1204.3 1913.06,1204.3 1917.02,1204.3 1920.99,1204.3 1924.95,1204.3 1928.91,1204.3 1932.88,1204.3 1936.84,1204.3 1940.81,1204.3 1944.77,1204.3 \n",
              "  1948.74,1204.3 1952.7,1204.3 1956.66,1204.3 1960.63,1204.3 1964.59,1204.3 1968.56,1204.3 1972.52,1204.3 1976.49,1204.3 1980.45,1204.3 1984.41,1204.3 \n",
              "  1988.38,1204.3 1992.34,1204.3 1996.31,1204.3 2000.27,1204.3 2004.24,1204.3 2008.2,1204.3 2012.16,1204.3 2016.13,1204.3 2020.09,1204.3 2024.06,1204.3 \n",
              "  2028.02,1204.3 2031.99,1204.3 2035.95,1204.3 2039.91,1204.3 2043.88,1204.3 2047.84,1204.3 2051.81,1204.3 2055.77,1204.3 2059.74,1204.3 2063.7,1204.3 \n",
              "  2067.66,1204.3 2071.63,1204.3 2075.59,1204.3 2079.56,1204.3 2083.52,1204.3 2087.49,1204.3 2091.45,1204.3 2095.41,1204.3 2099.38,1204.3 2103.34,1204.3 \n",
              "  2107.31,1204.3 2111.27,1204.3 2115.24,1204.3 2119.2,1204.3 2123.16,1204.3 2127.13,1204.3 2131.09,1204.3 2135.06,1204.3 2139.02,1204.3 2142.99,1204.3 \n",
              "  2146.95,1204.3 2150.91,1204.3 2154.88,1204.3 2158.84,1204.3 2162.81,1204.3 2166.77,1204.3 2170.74,1204.3 2174.7,1204.3 2178.66,1204.3 2182.63,1204.3 \n",
              "  2186.59,1204.3 2190.56,1204.3 2194.52,1204.3 2198.49,1204.3 2202.45,1204.3 2206.41,1204.3 2210.38,1204.3 2214.34,1204.3 2218.31,1204.3 2222.27,1204.3 \n",
              "  2226.24,1204.3 2230.2,1204.3 2234.16,1204.3 2238.13,1204.3 2242.09,1204.3 2246.06,1204.3 2250.02,1204.3 2253.99,1204.3 2257.95,1204.3 2261.91,1204.3 \n",
              "  \n",
              "  \"/>\n",
              "<polyline clip-path=\"url(#clip9403)\" style=\"stroke:#eca25c; stroke-width:4; stroke-opacity:1; fill:none\" points=\"\n",
              "  283.732,1398.26 287.696,1398.26 291.66,1398.26 295.625,1398.26 299.589,1398.26 303.553,1398.26 307.517,1398.26 311.482,1398.26 315.446,1398.26 319.41,1398.26 \n",
              "  323.375,1398.26 327.339,1398.26 331.303,1398.26 335.267,1398.26 339.232,1398.26 343.196,1398.26 347.16,1398.26 351.125,1398.26 355.089,1398.26 359.053,1398.26 \n",
              "  363.018,1398.26 366.982,1398.26 370.946,1398.26 374.91,1398.26 378.875,1398.26 382.839,1398.26 386.803,1398.26 390.768,1398.26 394.732,1398.26 398.696,1398.26 \n",
              "  402.66,1398.26 406.625,1398.26 410.589,1398.26 414.553,1398.26 418.518,1398.26 422.482,1398.26 426.446,1398.26 430.411,1398.26 434.375,1398.26 438.339,1398.26 \n",
              "  442.303,1398.26 446.268,1398.26 450.232,1398.26 454.196,1398.26 458.161,1398.26 462.125,1398.26 466.089,1398.26 470.053,1398.26 474.018,1398.26 477.982,1398.26 \n",
              "  481.946,1398.26 485.911,1398.26 489.875,1398.26 493.839,1398.26 497.804,1398.26 501.768,1398.26 505.732,1398.26 509.696,1398.26 513.661,1398.26 517.625,1398.26 \n",
              "  521.589,1398.26 525.554,1398.26 529.518,1398.26 533.482,1398.26 537.446,1398.26 541.411,1398.26 545.375,1398.26 549.339,1398.26 553.304,1398.26 557.268,1398.26 \n",
              "  561.232,1398.26 565.197,1398.26 569.161,1398.26 573.125,1398.26 577.089,1398.26 581.054,1398.26 585.018,1398.26 588.982,1398.26 592.947,1398.26 596.911,1398.26 \n",
              "  600.875,1398.26 604.839,1398.26 608.804,1398.26 612.768,1398.26 616.732,1398.26 620.697,1398.26 624.661,1398.26 628.625,1398.26 632.59,1398.26 636.554,1398.26 \n",
              "  640.518,1398.26 644.482,1398.26 648.447,1398.26 652.411,1398.26 656.375,1398.26 660.34,1398.26 664.304,1398.26 668.268,1398.26 672.232,1398.26 676.197,1398.26 \n",
              "  680.161,1398.26 684.125,1398.26 688.09,1398.26 692.054,1398.26 696.018,1398.26 699.983,1398.26 703.947,1398.26 707.911,1398.26 711.875,1398.26 715.84,1398.26 \n",
              "  719.804,1398.26 723.768,1398.26 727.733,1398.26 731.697,1398.26 735.661,1398.26 739.625,1398.26 743.59,1398.26 747.554,1398.26 751.518,1398.26 755.483,1398.26 \n",
              "  759.447,1398.26 763.411,1398.26 767.376,1398.26 771.34,1398.26 775.304,1398.26 779.268,1398.26 783.233,1398.26 787.197,1398.26 791.161,1398.26 795.126,1398.26 \n",
              "  799.09,1398.26 803.054,1398.26 807.018,1398.26 810.983,1398.26 814.947,1398.26 818.911,1398.26 822.876,1398.26 826.84,1398.26 830.804,1398.26 834.769,1398.26 \n",
              "  838.733,1398.26 842.697,1398.26 846.661,1398.26 850.626,1398.26 854.59,1398.26 858.554,1398.26 862.519,1398.26 866.483,1398.26 870.447,1398.26 874.411,1398.26 \n",
              "  878.376,1398.26 882.34,1398.26 886.304,1398.26 890.269,1398.26 894.233,1398.26 898.197,1398.26 902.162,1398.26 906.126,1398.26 910.09,1398.26 914.054,1398.26 \n",
              "  918.019,1398.26 921.983,1398.26 925.947,1398.26 929.912,1398.26 933.876,1398.26 937.84,1398.26 941.804,1398.26 945.769,1398.26 949.733,1398.26 953.697,1398.26 \n",
              "  957.662,1398.26 961.626,1398.26 965.59,1398.26 969.555,1398.26 973.519,1398.26 977.483,1398.26 981.447,1398.26 985.412,1398.26 989.376,1398.26 993.34,1398.26 \n",
              "  997.305,1398.26 1001.27,1398.26 1005.23,1398.26 1009.2,1398.26 1013.16,1398.26 1017.13,1398.26 1021.09,1398.26 1025.05,1398.26 1029.02,1398.26 1032.98,1398.26 \n",
              "  1036.95,1398.26 1040.91,1398.26 1044.88,1398.26 1048.84,1398.26 1052.8,1398.26 1056.77,1398.26 1060.73,1398.26 1064.7,1398.26 1068.66,1398.26 1072.63,1398.26 \n",
              "  1076.59,1398.26 1080.55,1398.26 1084.52,1398.26 1088.48,1398.26 1092.45,1398.26 1096.41,1398.26 1100.38,1398.26 1104.34,1398.26 1108.3,1398.26 1112.27,1398.26 \n",
              "  1116.23,1398.26 1120.2,1398.26 1124.16,1398.26 1128.13,1398.26 1132.09,1398.26 1136.05,1398.26 1140.02,1398.26 1143.98,1398.26 1147.95,1398.26 1151.91,1398.26 \n",
              "  1155.88,1398.26 1159.84,1398.26 1163.8,1398.26 1167.77,1398.26 1171.73,1398.26 1175.7,1398.26 1179.66,1398.26 1183.63,1398.26 1187.59,1398.26 1191.55,1398.26 \n",
              "  1195.52,1398.26 1199.48,1398.26 1203.45,1398.26 1207.41,1398.26 1211.38,1398.26 1215.34,1398.26 1219.31,1398.26 1223.27,1398.26 1227.23,1398.26 1231.2,1398.26 \n",
              "  1235.16,1398.26 1239.13,1398.26 1243.09,1398.26 1247.06,1398.26 1251.02,1398.26 1254.98,1398.26 1258.95,1398.26 1262.91,1398.26 1266.88,1398.26 1270.84,1398.26 \n",
              "  1274.81,1398.26 1278.77,1398.26 1282.73,1398.26 1286.7,1398.26 1290.66,1398.26 1294.63,1398.26 1298.59,1398.26 1302.56,1398.26 1306.52,1398.26 1310.48,1398.26 \n",
              "  1314.45,1398.26 1318.41,1398.26 1322.38,1398.26 1326.34,1398.26 1330.31,1398.26 1334.27,1398.26 1338.23,1398.26 1342.2,1398.26 1346.16,1398.26 1350.13,1398.26 \n",
              "  1354.09,1398.26 1358.06,1398.26 1362.02,1398.26 1365.98,1398.26 1369.95,1398.26 1373.91,1398.26 1377.88,1398.26 1381.84,1398.26 1385.81,1398.26 1389.77,1398.26 \n",
              "  1393.73,1398.26 1397.7,1398.26 1401.66,1398.26 1405.63,1398.26 1409.59,1398.26 1413.56,1398.26 1417.52,1398.26 1421.48,1398.26 1425.45,1398.26 1429.41,1398.26 \n",
              "  1433.38,1398.26 1437.34,1398.26 1441.31,1398.26 1445.27,1398.26 1449.23,1398.26 1453.2,1398.26 1457.16,1398.26 1461.13,1398.26 1465.09,1398.26 1469.06,1398.26 \n",
              "  1473.02,1398.26 1476.98,1398.26 1480.95,1398.26 1484.91,1398.26 1488.88,1398.26 1492.84,1398.26 1496.81,1398.26 1500.77,1398.26 1504.73,1398.26 1508.7,1398.26 \n",
              "  1512.66,1398.26 1516.63,1398.26 1520.59,1398.26 1524.56,1398.26 1528.52,1398.26 1532.48,1398.26 1536.45,1398.26 1540.41,1398.26 1544.38,1398.26 1548.34,1398.26 \n",
              "  1552.31,1398.26 1556.27,1398.26 1560.23,1398.26 1564.2,1398.26 1568.16,1398.26 1572.13,1398.26 1576.09,1398.26 1580.06,1398.26 1584.02,1398.26 1587.98,1398.26 \n",
              "  1591.95,1398.26 1595.91,1398.26 1599.88,1398.26 1603.84,1398.26 1607.81,1398.26 1611.77,1398.26 1615.73,1398.26 1619.7,1398.26 1623.66,1398.26 1627.63,1398.26 \n",
              "  1631.59,1398.26 1635.56,1398.26 1639.52,1398.26 1643.48,1398.26 1647.45,1398.26 1651.41,1398.26 1655.38,1398.26 1659.34,1398.26 1663.31,1398.26 1667.27,1398.26 \n",
              "  1671.23,1398.26 1675.2,1398.26 1679.16,1398.26 1683.13,1398.26 1687.09,1398.26 1691.06,1398.26 1695.02,1398.26 1698.98,1398.26 1702.95,1398.26 1706.91,1398.26 \n",
              "  1710.88,1398.26 1714.84,1398.26 1718.81,1398.26 1722.77,1398.26 1726.73,1398.26 1730.7,1398.26 1734.66,1398.26 1738.63,1398.26 1742.59,1398.26 1746.56,1398.26 \n",
              "  1750.52,1398.26 1754.48,1398.26 1758.45,1398.26 1762.41,1398.26 1766.38,1398.26 1770.34,1398.26 1774.31,1398.26 1778.27,1398.26 1782.23,1398.26 1786.2,1398.26 \n",
              "  1790.16,1398.26 1794.13,1398.26 1798.09,1398.26 1802.06,1398.26 1806.02,1398.26 1809.98,1398.26 1813.95,1398.26 1817.91,1398.26 1821.88,1398.26 1825.84,1398.26 \n",
              "  1829.81,1398.26 1833.77,1398.26 1837.73,1398.26 1841.7,1398.26 1845.66,1398.26 1849.63,1398.26 1853.59,1398.26 1857.56,1398.26 1861.52,1398.26 1865.48,1398.26 \n",
              "  1869.45,1398.26 1873.41,1398.26 1877.38,1398.26 1881.34,1398.26 1885.31,1398.26 1889.27,1398.26 1893.24,1398.26 1897.2,1398.26 1901.16,1398.26 1905.13,1398.26 \n",
              "  1909.09,1398.26 1913.06,1398.26 1917.02,1398.26 1920.99,1398.26 1924.95,1398.26 1928.91,1398.26 1932.88,1398.26 1936.84,1398.26 1940.81,1398.26 1944.77,1398.26 \n",
              "  1948.74,1398.26 1952.7,1398.26 1956.66,1398.26 1960.63,1398.26 1964.59,1398.26 1968.56,1398.26 1972.52,1398.26 1976.49,1398.26 1980.45,1398.26 1984.41,1398.26 \n",
              "  1988.38,1398.26 1992.34,1398.26 1996.31,1398.26 2000.27,1398.26 2004.24,1398.26 2008.2,1398.26 2012.16,1398.26 2016.13,1398.26 2020.09,1398.26 2024.06,1398.26 \n",
              "  2028.02,1398.26 2031.99,1398.26 2035.95,1398.26 2039.91,1398.26 2043.88,1398.26 2047.84,1398.26 2051.81,1398.26 2055.77,1398.26 2059.74,1398.26 2063.7,1398.26 \n",
              "  2067.66,1398.26 2071.63,1398.26 2075.59,1398.26 2079.56,1398.26 2083.52,1398.26 2087.49,1398.26 2091.45,1398.26 2095.41,1398.26 2099.38,1398.26 2103.34,1398.26 \n",
              "  2107.31,1398.26 2111.27,1398.26 2115.24,1398.26 2119.2,1398.26 2123.16,1398.26 2127.13,1398.26 2131.09,1398.26 2135.06,1398.26 2139.02,1398.26 2142.99,1398.26 \n",
              "  2146.95,1398.26 2150.91,1398.26 2154.88,1398.26 2158.84,1398.26 2162.81,1398.26 2166.77,1398.26 2170.74,1398.26 2174.7,1398.26 2178.66,1398.26 2182.63,1398.26 \n",
              "  2186.59,1398.26 2190.56,1398.26 2194.52,1398.26 2198.49,1398.26 2202.45,1398.26 2206.41,1398.26 2210.38,1398.26 2214.34,1398.26 2218.31,1398.26 2222.27,1398.26 \n",
              "  2226.24,1398.26 2230.2,1398.26 2234.16,1398.26 2238.13,1398.26 2242.09,1398.26 2246.06,1398.26 2250.02,1398.26 2253.99,1398.26 2257.95,1398.26 2261.91,1398.26 \n",
              "  \n",
              "  \"/>\n",
              "<polyline clip-path=\"url(#clip9403)\" style=\"stroke:#3f9778; stroke-width:4; stroke-opacity:1; fill:none\" points=\"\n",
              "  283.732,1401.05 287.696,1398.45 291.66,1395.84 295.625,1393.24 299.589,1390.64 303.553,1388.03 307.517,1385.43 311.482,1382.83 315.446,1380.22 319.41,1377.62 \n",
              "  323.375,1375.02 327.339,1372.41 331.303,1369.81 335.267,1367.21 339.232,1364.6 343.196,1362 347.16,1359.4 351.125,1356.79 355.089,1354.19 359.053,1351.59 \n",
              "  363.018,1348.98 366.982,1346.38 370.946,1343.78 374.91,1341.17 378.875,1338.57 382.839,1335.97 386.803,1333.36 390.768,1330.76 394.732,1328.16 398.696,1325.55 \n",
              "  402.66,1322.95 406.625,1320.35 410.589,1317.74 414.553,1315.14 418.518,1312.54 422.482,1309.93 426.446,1307.33 430.411,1304.73 434.375,1302.12 438.339,1299.52 \n",
              "  442.303,1296.91 446.268,1294.31 450.232,1291.71 454.196,1289.1 458.161,1286.5 462.125,1283.9 466.089,1281.29 470.053,1278.69 474.018,1276.09 477.982,1273.48 \n",
              "  481.946,1270.88 485.911,1268.28 489.875,1265.67 493.839,1263.07 497.804,1260.47 501.768,1257.86 505.732,1255.26 509.696,1252.66 513.661,1250.05 517.625,1247.45 \n",
              "  521.589,1244.85 525.554,1242.24 529.518,1239.64 533.482,1237.04 537.446,1234.43 541.411,1231.83 545.375,1229.23 549.339,1226.62 553.304,1224.02 557.268,1221.42 \n",
              "  561.232,1218.81 565.197,1216.21 569.161,1213.61 573.125,1211 577.089,1208.4 581.054,1205.8 585.018,1203.19 588.982,1200.59 592.947,1197.99 596.911,1195.38 \n",
              "  600.875,1192.78 604.839,1190.18 608.804,1187.57 612.768,1184.97 616.732,1182.36 620.697,1179.76 624.661,1177.16 628.625,1174.55 632.59,1171.95 636.554,1169.35 \n",
              "  640.518,1166.74 644.482,1164.14 648.447,1161.54 652.411,1158.93 656.375,1156.33 660.34,1153.73 664.304,1151.12 668.268,1148.52 672.232,1145.92 676.197,1143.31 \n",
              "  680.161,1140.71 684.125,1138.11 688.09,1135.5 692.054,1132.9 696.018,1130.3 699.983,1127.69 703.947,1125.09 707.911,1122.49 711.875,1119.88 715.84,1117.28 \n",
              "  719.804,1114.68 723.768,1112.07 727.733,1109.47 731.697,1106.87 735.661,1104.26 739.625,1101.66 743.59,1099.06 747.554,1096.45 751.518,1093.85 755.483,1091.25 \n",
              "  759.447,1088.64 763.411,1086.04 767.376,1083.44 771.34,1080.83 775.304,1078.23 779.268,1075.63 783.233,1073.02 787.197,1070.42 791.161,1067.81 795.126,1065.21 \n",
              "  799.09,1062.61 803.054,1060 807.018,1057.4 810.983,1054.8 814.947,1052.19 818.911,1049.59 822.876,1046.99 826.84,1044.38 830.804,1041.78 834.769,1039.18 \n",
              "  838.733,1036.57 842.697,1033.97 846.661,1031.37 850.626,1028.76 854.59,1026.16 858.554,1023.56 862.519,1020.95 866.483,1018.35 870.447,1015.75 874.411,1013.14 \n",
              "  878.376,1010.54 882.34,1007.94 886.304,1005.33 890.269,1002.73 894.233,1000.13 898.197,997.523 902.162,994.919 906.126,992.316 910.09,989.713 914.054,987.109 \n",
              "  918.019,984.506 921.983,981.902 925.947,979.299 929.912,976.696 933.876,974.092 937.84,971.489 941.804,968.885 945.769,966.282 949.733,963.679 953.697,961.075 \n",
              "  957.662,958.472 961.626,955.868 965.59,953.265 969.555,950.661 973.519,948.058 977.483,945.455 981.447,942.851 985.412,940.248 989.376,937.644 993.34,935.041 \n",
              "  997.305,932.438 1001.27,929.834 1005.23,927.231 1009.2,924.627 1013.16,922.024 1017.13,919.421 1021.09,916.817 1025.05,914.214 1029.02,911.61 1032.98,909.007 \n",
              "  1036.95,906.404 1040.91,903.8 1044.88,901.197 1048.84,898.593 1052.8,895.99 1056.77,893.386 1060.73,890.783 1064.7,888.18 1068.66,885.576 1072.63,882.973 \n",
              "  1076.59,880.369 1080.55,877.766 1084.52,875.163 1088.48,872.559 1092.45,869.956 1096.41,867.352 1100.38,864.749 1104.34,862.146 1108.3,859.542 1112.27,856.939 \n",
              "  1116.23,854.335 1120.2,851.732 1124.16,849.128 1128.13,846.525 1132.09,843.922 1136.05,841.318 1140.02,838.715 1143.98,836.111 1147.95,833.508 1151.91,830.905 \n",
              "  1155.88,828.301 1159.84,825.698 1163.8,823.094 1167.77,820.491 1171.73,817.888 1175.7,815.284 1179.66,812.681 1183.63,810.077 1187.59,807.474 1191.55,804.871 \n",
              "  1195.52,802.267 1199.48,799.664 1203.45,797.06 1207.41,794.457 1211.38,791.853 1215.34,789.25 1219.31,786.647 1223.27,784.043 1227.23,781.44 1231.2,778.836 \n",
              "  1235.16,776.233 1239.13,773.63 1243.09,771.026 1247.06,768.423 1251.02,765.819 1254.98,763.216 1258.95,760.613 1262.91,758.009 1266.88,755.406 1270.84,752.802 \n",
              "  1274.81,750.199 1278.77,747.596 1282.73,744.992 1286.7,742.389 1290.66,739.785 1294.63,737.182 1298.59,734.578 1302.56,731.975 1306.52,729.372 1310.48,726.768 \n",
              "  1314.45,724.165 1318.41,721.561 1322.38,718.958 1326.34,716.355 1330.31,713.751 1334.27,711.148 1338.23,708.544 1342.2,705.941 1346.16,703.338 1350.13,700.734 \n",
              "  1354.09,698.131 1358.06,695.527 1362.02,692.924 1365.98,690.321 1369.95,687.717 1373.91,685.114 1377.88,682.51 1381.84,679.907 1385.81,677.303 1389.77,674.7 \n",
              "  1393.73,672.097 1397.7,669.493 1401.66,666.89 1405.63,664.286 1409.59,661.683 1413.56,659.08 1417.52,656.476 1421.48,653.873 1425.45,651.269 1429.41,648.666 \n",
              "  1433.38,646.063 1437.34,643.459 1441.31,640.856 1445.27,638.252 1449.23,635.649 1453.2,633.045 1457.16,630.442 1461.13,627.839 1465.09,625.235 1469.06,622.632 \n",
              "  1473.02,620.028 1476.98,617.425 1480.95,614.822 1484.91,612.218 1488.88,609.615 1492.84,607.011 1496.81,604.408 1500.77,601.805 1504.73,599.201 1508.7,596.598 \n",
              "  1512.66,593.994 1516.63,591.391 1520.59,588.788 1524.56,586.184 1528.52,583.581 1532.48,580.977 1536.45,578.374 1540.41,575.77 1544.38,573.167 1548.34,570.564 \n",
              "  1552.31,567.96 1556.27,565.357 1560.23,562.753 1564.2,560.15 1568.16,557.547 1572.13,554.943 1576.09,552.34 1580.06,549.736 1584.02,547.133 1587.98,544.53 \n",
              "  1591.95,541.926 1595.91,539.323 1599.88,536.719 1603.84,534.116 1607.81,531.513 1611.77,528.909 1615.73,526.306 1619.7,523.702 1623.66,521.099 1627.63,518.495 \n",
              "  1631.59,515.892 1635.56,513.289 1639.52,510.685 1643.48,508.082 1647.45,505.478 1651.41,502.875 1655.38,500.272 1659.34,497.668 1663.31,495.065 1667.27,492.461 \n",
              "  1671.23,489.858 1675.2,487.255 1679.16,484.651 1683.13,482.048 1687.09,479.444 1691.06,476.841 1695.02,474.238 1698.98,471.634 1702.95,469.031 1706.91,466.427 \n",
              "  1710.88,463.824 1714.84,461.22 1718.81,458.617 1722.77,456.014 1726.73,453.41 1730.7,450.807 1734.66,448.203 1738.63,445.6 1742.59,442.997 1746.56,440.393 \n",
              "  1750.52,437.79 1754.48,435.186 1758.45,432.583 1762.41,429.98 1766.38,427.376 1770.34,424.773 1774.31,422.169 1778.27,419.566 1782.23,416.963 1786.2,414.359 \n",
              "  1790.16,411.756 1794.13,409.152 1798.09,406.549 1802.06,403.945 1806.02,401.342 1809.98,398.739 1813.95,396.135 1817.91,393.532 1821.88,390.928 1825.84,388.325 \n",
              "  1829.81,385.722 1833.77,383.118 1837.73,380.515 1841.7,377.911 1845.66,375.308 1849.63,372.705 1853.59,370.101 1857.56,367.498 1861.52,364.894 1865.48,362.291 \n",
              "  1869.45,359.687 1873.41,357.084 1877.38,354.481 1881.34,351.877 1885.31,349.274 1889.27,346.67 1893.24,344.067 1897.2,341.464 1901.16,338.86 1905.13,336.257 \n",
              "  1909.09,333.653 1913.06,331.05 1917.02,328.447 1920.99,325.843 1924.95,323.24 1928.91,320.636 1932.88,318.033 1936.84,315.43 1940.81,312.826 1944.77,310.223 \n",
              "  1948.74,307.619 1952.7,305.016 1956.66,302.412 1960.63,299.809 1964.59,297.206 1968.56,294.602 1972.52,291.999 1976.49,289.395 1980.45,286.792 1984.41,284.189 \n",
              "  1988.38,281.585 1992.34,278.982 1996.31,276.378 2000.27,273.775 2004.24,271.172 2008.2,268.568 2012.16,265.965 2016.13,263.361 2020.09,260.758 2024.06,258.155 \n",
              "  2028.02,255.551 2031.99,252.948 2035.95,250.344 2039.91,247.741 2043.88,245.137 2047.84,242.534 2051.81,239.931 2055.77,237.327 2059.74,234.724 2063.7,232.12 \n",
              "  2067.66,229.517 2071.63,226.914 2075.59,224.31 2079.56,221.707 2083.52,219.103 2087.49,216.5 2091.45,213.897 2095.41,211.293 2099.38,208.69 2103.34,206.086 \n",
              "  2107.31,203.483 2111.27,200.88 2115.24,198.276 2119.2,195.673 2123.16,193.069 2127.13,190.466 2131.09,187.862 2135.06,185.259 2139.02,182.656 2142.99,180.052 \n",
              "  2146.95,177.449 2150.91,174.845 2154.88,172.242 2158.84,169.639 2162.81,167.035 2166.77,164.432 2170.74,161.828 2174.7,159.225 2178.66,156.622 2182.63,154.018 \n",
              "  2186.59,151.415 2190.56,148.811 2194.52,146.208 2198.49,143.604 2202.45,141.001 2206.41,138.398 2210.38,135.794 2214.34,133.191 2218.31,130.587 2222.27,127.984 \n",
              "  2226.24,125.381 2230.2,122.777 2234.16,120.174 2238.13,117.57 2242.09,114.967 2246.06,112.364 2250.02,109.76 2253.99,107.157 2257.95,104.553 2261.91,101.95 \n",
              "  \n",
              "  \"/>\n",
              "<polyline clip-path=\"url(#clip9403)\" style=\"stroke:#005d7f; stroke-width:4; stroke-opacity:1; fill:none\" points=\"\n",
              "  283.732,1204.18 287.696,1204.13 291.66,1204.03 295.625,1203.91 299.589,1203.75 303.553,1203.55 307.517,1203.33 311.482,1203.07 315.446,1202.77 319.41,1202.45 \n",
              "  323.375,1202.09 327.339,1201.69 331.303,1201.27 335.267,1200.81 339.232,1200.32 343.196,1199.8 347.16,1199.24 351.125,1198.66 355.089,1198.04 359.053,1197.39 \n",
              "  363.018,1196.72 366.982,1196.01 370.946,1195.27 374.91,1194.5 378.875,1193.7 382.839,1192.88 386.803,1192.02 390.768,1191.14 394.732,1190.23 398.696,1189.29 \n",
              "  402.66,1188.32 406.625,1187.33 410.589,1186.31 414.553,1185.26 418.518,1184.19 422.482,1183.09 426.446,1181.97 430.411,1180.82 434.375,1179.65 438.339,1178.45 \n",
              "  442.303,1177.23 446.268,1175.99 450.232,1174.72 454.196,1173.44 458.161,1172.13 462.125,1170.8 466.089,1169.44 470.053,1168.07 474.018,1166.67 477.982,1165.26 \n",
              "  481.946,1163.83 485.911,1162.37 489.875,1160.9 493.839,1159.41 497.804,1157.9 501.768,1156.37 505.732,1154.82 509.696,1153.26 513.661,1151.68 517.625,1150.08 \n",
              "  521.589,1148.46 525.554,1146.83 529.518,1145.19 533.482,1143.53 537.446,1141.85 541.411,1140.16 545.375,1138.45 549.339,1136.73 553.304,1134.99 557.268,1133.24 \n",
              "  561.232,1131.48 565.197,1129.7 569.161,1127.91 573.125,1126.11 577.089,1124.3 581.054,1122.47 585.018,1120.63 588.982,1118.78 592.947,1116.91 596.911,1115.04 \n",
              "  600.875,1113.15 604.839,1111.26 608.804,1109.35 612.768,1107.43 616.732,1105.5 620.697,1103.56 624.661,1101.62 628.625,1099.66 632.59,1097.69 636.554,1095.71 \n",
              "  640.518,1093.72 644.482,1091.73 648.447,1089.72 652.411,1087.71 656.375,1085.69 660.34,1083.66 664.304,1081.62 668.268,1079.57 672.232,1077.52 676.197,1075.46 \n",
              "  680.161,1073.39 684.125,1071.31 688.09,1069.23 692.054,1067.13 696.018,1065.03 699.983,1062.93 703.947,1060.82 707.911,1058.7 711.875,1056.57 715.84,1054.44 \n",
              "  719.804,1052.3 723.768,1050.15 727.733,1048 731.697,1045.84 735.661,1043.68 739.625,1041.51 743.59,1039.34 747.554,1037.16 751.518,1034.97 755.483,1032.78 \n",
              "  759.447,1030.59 763.411,1028.38 767.376,1026.18 771.34,1023.97 775.304,1021.75 779.268,1019.53 783.233,1017.3 787.197,1015.07 791.161,1012.84 795.126,1010.6 \n",
              "  799.09,1008.35 803.054,1006.1 807.018,1003.85 810.983,1001.59 814.947,999.33 818.911,997.064 822.876,994.795 826.84,992.521 830.804,990.244 834.769,987.963 \n",
              "  838.733,985.678 842.697,983.389 846.661,981.097 850.626,978.801 854.59,976.501 858.554,974.198 862.519,971.892 866.483,969.582 870.447,967.269 874.411,964.953 \n",
              "  878.376,962.634 882.34,960.311 886.304,957.986 890.269,955.657 894.233,953.325 898.197,950.991 902.162,948.653 906.126,946.312 910.09,943.969 914.054,941.623 \n",
              "  918.019,939.274 921.983,936.923 925.947,934.569 929.912,932.212 933.876,929.853 937.84,927.491 941.804,925.126 945.769,922.759 949.733,920.39 953.697,918.018 \n",
              "  957.662,915.644 961.626,913.268 965.59,910.889 969.555,908.508 973.519,906.125 977.483,903.74 981.447,901.352 985.412,898.963 989.376,896.571 993.34,894.177 \n",
              "  997.305,891.781 1001.27,889.383 1005.23,886.984 1009.2,884.582 1013.16,882.178 1017.13,879.772 1021.09,877.365 1025.05,874.955 1029.02,872.544 1032.98,870.131 \n",
              "  1036.95,867.716 1040.91,865.3 1044.88,862.881 1048.84,860.461 1052.8,858.04 1056.77,855.616 1060.73,853.191 1064.7,850.765 1068.66,848.337 1072.63,845.907 \n",
              "  1076.59,843.475 1080.55,841.043 1084.52,838.608 1088.48,836.172 1092.45,833.735 1096.41,831.296 1100.38,828.856 1104.34,826.414 1108.3,823.971 1112.27,821.526 \n",
              "  1116.23,819.08 1120.2,816.633 1124.16,814.185 1128.13,811.735 1132.09,809.284 1136.05,806.831 1140.02,804.377 1143.98,801.922 1147.95,799.466 1151.91,797.009 \n",
              "  1155.88,794.55 1159.84,792.09 1163.8,789.629 1167.77,787.167 1171.73,784.703 1175.7,782.239 1179.66,779.773 1183.63,777.306 1187.59,774.838 1191.55,772.369 \n",
              "  1195.52,769.899 1199.48,767.428 1203.45,764.956 1207.41,762.483 1211.38,760.009 1215.34,757.534 1219.31,755.057 1223.27,752.58 1227.23,750.102 1231.2,747.623 \n",
              "  1235.16,745.143 1239.13,742.661 1243.09,740.179 1247.06,737.697 1251.02,735.213 1254.98,732.728 1258.95,730.242 1262.91,727.756 1266.88,725.268 1270.84,722.78 \n",
              "  1274.81,720.291 1278.77,717.801 1282.73,715.31 1286.7,712.818 1290.66,710.326 1294.63,707.833 1298.59,705.338 1302.56,702.844 1306.52,700.348 1310.48,697.851 \n",
              "  1314.45,695.354 1318.41,692.856 1322.38,690.358 1326.34,687.858 1330.31,685.358 1334.27,682.857 1338.23,680.355 1342.2,677.853 1346.16,675.35 1350.13,672.846 \n",
              "  1354.09,670.341 1358.06,667.836 1362.02,665.33 1365.98,662.824 1369.95,660.317 1373.91,657.809 1377.88,655.3 1381.84,652.791 1385.81,650.281 1389.77,647.771 \n",
              "  1393.73,645.26 1397.7,642.748 1401.66,640.236 1405.63,637.723 1409.59,635.21 1413.56,632.696 1417.52,630.181 1421.48,627.666 1425.45,625.15 1429.41,622.633 \n",
              "  1433.38,620.116 1437.34,617.599 1441.31,615.081 1445.27,612.562 1449.23,610.043 1453.2,607.523 1457.16,605.003 1461.13,602.482 1465.09,599.961 1469.06,597.439 \n",
              "  1473.02,594.916 1476.98,592.394 1480.95,589.87 1484.91,587.346 1488.88,584.822 1492.84,582.297 1496.81,579.772 1500.77,577.246 1504.73,574.719 1508.7,572.193 \n",
              "  1512.66,569.665 1516.63,567.138 1520.59,564.609 1524.56,562.081 1528.52,559.552 1532.48,557.022 1536.45,554.492 1540.41,551.962 1544.38,549.431 1548.34,546.899 \n",
              "  1552.31,544.367 1556.27,541.835 1560.23,539.303 1564.2,536.77 1568.16,534.236 1572.13,531.702 1576.09,529.168 1580.06,526.633 1584.02,524.098 1587.98,521.563 \n",
              "  1591.95,519.027 1595.91,516.491 1599.88,513.954 1603.84,511.417 1607.81,508.88 1611.77,506.342 1615.73,503.804 1619.7,501.265 1623.66,498.726 1627.63,496.187 \n",
              "  1631.59,493.647 1635.56,491.107 1639.52,488.567 1643.48,486.026 1647.45,483.485 1651.41,480.944 1655.38,478.402 1659.34,475.86 1663.31,473.318 1667.27,470.775 \n",
              "  1671.23,468.232 1675.2,465.688 1679.16,463.145 1683.13,460.6 1687.09,458.056 1691.06,455.511 1695.02,452.966 1698.98,450.421 1702.95,447.875 1706.91,445.329 \n",
              "  1710.88,442.783 1714.84,440.236 1718.81,437.69 1722.77,435.142 1726.73,432.595 1730.7,430.047 1734.66,427.499 1738.63,424.951 1742.59,422.402 1746.56,419.853 \n",
              "  1750.52,417.304 1754.48,414.754 1758.45,412.205 1762.41,409.654 1766.38,407.104 1770.34,404.553 1774.31,402.003 1778.27,399.451 1782.23,396.9 1786.2,394.348 \n",
              "  1790.16,391.796 1794.13,389.244 1798.09,386.692 1802.06,384.139 1806.02,381.586 1809.98,379.033 1813.95,376.479 1817.91,373.925 1821.88,371.371 1825.84,368.817 \n",
              "  1829.81,366.263 1833.77,363.708 1837.73,361.153 1841.7,358.598 1845.66,356.042 1849.63,353.487 1853.59,350.931 1857.56,348.375 1861.52,345.818 1865.48,343.262 \n",
              "  1869.45,340.705 1873.41,338.148 1877.38,335.591 1881.34,333.033 1885.31,330.475 1889.27,327.917 1893.24,325.359 1897.2,322.801 1901.16,320.242 1905.13,317.683 \n",
              "  1909.09,315.124 1913.06,312.565 1917.02,310.006 1920.99,307.446 1924.95,304.886 1928.91,302.326 1932.88,299.766 1936.84,297.206 1940.81,294.645 1944.77,292.084 \n",
              "  1948.74,289.523 1952.7,286.962 1956.66,284.4 1960.63,281.839 1964.59,279.277 1968.56,276.715 1972.52,274.153 1976.49,271.59 1980.45,269.028 1984.41,266.465 \n",
              "  1988.38,263.902 1992.34,261.339 1996.31,258.776 2000.27,256.212 2004.24,253.648 2008.2,251.084 2012.16,248.52 2016.13,245.956 2020.09,243.392 2024.06,240.827 \n",
              "  2028.02,238.263 2031.99,235.698 2035.95,233.133 2039.91,230.567 2043.88,228.002 2047.84,225.436 2051.81,222.871 2055.77,220.305 2059.74,217.739 2063.7,215.173 \n",
              "  2067.66,212.606 2071.63,210.04 2075.59,207.473 2079.56,204.906 2083.52,202.339 2087.49,199.772 2091.45,197.205 2095.41,194.637 2099.38,192.069 2103.34,189.502 \n",
              "  2107.31,186.934 2111.27,184.366 2115.24,181.797 2119.2,179.229 2123.16,176.66 2127.13,174.092 2131.09,171.523 2135.06,168.954 2139.02,166.385 2142.99,163.816 \n",
              "  2146.95,161.246 2150.91,158.677 2154.88,156.107 2158.84,153.537 2162.81,150.967 2166.77,148.397 2170.74,145.827 2174.7,143.256 2178.66,140.686 2182.63,138.115 \n",
              "  2186.59,135.544 2190.56,132.974 2194.52,130.403 2198.49,127.831 2202.45,125.26 2206.41,122.689 2210.38,120.117 2214.34,117.545 2218.31,114.974 2222.27,112.402 \n",
              "  2226.24,109.83 2230.2,107.257 2234.16,104.685 2238.13,102.113 2242.09,99.54 2246.06,96.9673 2250.02,94.3945 2253.99,91.8216 2257.95,89.2485 2261.91,86.6754 \n",
              "  \n",
              "  \"/>\n",
              "<polygon clip-path=\"url(#clip9401)\" points=\"\n",
              "1650.71,433.164 2249.26,433.164 2249.26,130.764 1650.71,130.764 \n",
              "  \" fill=\"#282c34\" fill-rule=\"evenodd\" fill-opacity=\"1\"/>\n",
              "<polyline clip-path=\"url(#clip9401)\" style=\"stroke:#9eb1be; stroke-width:4; stroke-opacity:1; fill:none\" points=\"\n",
              "  1650.71,433.164 2249.26,433.164 2249.26,130.764 1650.71,130.764 1650.71,433.164 \n",
              "  \"/>\n",
              "<polyline clip-path=\"url(#clip9401)\" style=\"stroke:#fe4365; stroke-width:4; stroke-opacity:1; fill:none\" points=\"\n",
              "  1674.71,191.244 1818.71,191.244 \n",
              "  \"/>\n",
              "<g clip-path=\"url(#clip9401)\">\n",
              "<text style=\"fill:#adadad; fill-opacity:1; font-family:Arial,Helvetica Neue,Helvetica,sans-serif; font-size:48px; text-anchor:start;\" transform=\"rotate(0, 1842.71, 208.744)\" x=\"1842.71\" y=\"208.744\">Thermal noise</text>\n",
              "</g>\n",
              "<polyline clip-path=\"url(#clip9401)\" style=\"stroke:#eca25c; stroke-width:4; stroke-opacity:1; fill:none\" points=\"\n",
              "  1674.71,251.724 1818.71,251.724 \n",
              "  \"/>\n",
              "<g clip-path=\"url(#clip9401)\">\n",
              "<text style=\"fill:#adadad; fill-opacity:1; font-family:Arial,Helvetica Neue,Helvetica,sans-serif; font-size:48px; text-anchor:start;\" transform=\"rotate(0, 1842.71, 269.224)\" x=\"1842.71\" y=\"269.224\">Dark shot noise</text>\n",
              "</g>\n",
              "<polyline clip-path=\"url(#clip9401)\" style=\"stroke:#3f9778; stroke-width:4; stroke-opacity:1; fill:none\" points=\"\n",
              "  1674.71,312.204 1818.71,312.204 \n",
              "  \"/>\n",
              "<g clip-path=\"url(#clip9401)\">\n",
              "<text style=\"fill:#adadad; fill-opacity:1; font-family:Arial,Helvetica Neue,Helvetica,sans-serif; font-size:48px; text-anchor:start;\" transform=\"rotate(0, 1842.71, 329.704)\" x=\"1842.71\" y=\"329.704\">Photo shot noise</text>\n",
              "</g>\n",
              "<polyline clip-path=\"url(#clip9401)\" style=\"stroke:#005d7f; stroke-width:4; stroke-opacity:1; fill:none\" points=\"\n",
              "  1674.71,372.684 1818.71,372.684 \n",
              "  \"/>\n",
              "<g clip-path=\"url(#clip9401)\">\n",
              "<text style=\"fill:#adadad; fill-opacity:1; font-family:Arial,Helvetica Neue,Helvetica,sans-serif; font-size:48px; text-anchor:start;\" transform=\"rotate(0, 1842.71, 390.184)\" x=\"1842.71\" y=\"390.184\">Combined</text>\n",
              "</g>\n",
              "</svg>\n"
            ]
          },
          "metadata": {}
        }
      ],
      "execution_count": 60,
      "metadata": {
        "collapsed": false,
        "outputHidden": false,
        "inputHidden": false
      }
    },
    {
      "cell_type": "markdown",
      "source": [
        "We will drop the dark current shot noise as it is neglectable by magnitude."
      ],
      "metadata": {
        "collapsed": false,
        "outputHidden": false,
        "inputHidden": false
      }
    },
    {
      "cell_type": "code",
      "source": [
        "z1 = sqrt.(y1.^2 .+ y3.^2)\n",
        "z2 = 1.2e-9\n",
        "\n",
        "plot(x ./ 1e-6, [\n",
        "    10 .* log10.(x ./ z1),\n",
        "    10 .* log10.(x ./ z2),\n",
        "    10 .* log10.(x ./ sqrt.(z1.^2 .+ z2.^2)),\n",
        "], label=[\n",
        "    \"Photodiode noise limited\",\n",
        "    \"Background noise limited (light off)\",\n",
        "    \"Combined\",\n",
        "], legend=:bottomright)\n",
        "\n",
        "xlabel!(\"Photo current (uA)\")\n",
        "ylabel!(\"SNR (dB)\")"
      ],
      "outputs": [
        {
          "output_type": "execute_result",
          "execution_count": 66,
          "data": {
            "image/svg+xml": [
              "<?xml version=\"1.0\" encoding=\"utf-8\"?>\n",
              "<svg xmlns=\"http://www.w3.org/2000/svg\" xmlns:xlink=\"http://www.w3.org/1999/xlink\" width=\"600\" height=\"400\" viewBox=\"0 0 2400 1600\">\n",
              "<defs>\n",
              "  <clipPath id=\"clip0400\">\n",
              "    <rect x=\"0\" y=\"0\" width=\"2000\" height=\"2000\"/>\n",
              "  </clipPath>\n",
              "</defs>\n",
              "<defs>\n",
              "  <clipPath id=\"clip0401\">\n",
              "    <rect x=\"0\" y=\"0\" width=\"2400\" height=\"1600\"/>\n",
              "  </clipPath>\n",
              "</defs>\n",
              "<polygon clip-path=\"url(#clip0401)\" points=\"\n",
              "0,1600 2400,1600 2400,0 0,0 \n",
              "  \" fill=\"#282c34\" fill-rule=\"evenodd\" fill-opacity=\"1\"/>\n",
              "<defs>\n",
              "  <clipPath id=\"clip0402\">\n",
              "    <rect x=\"480\" y=\"0\" width=\"1681\" height=\"1600\"/>\n",
              "  </clipPath>\n",
              "</defs>\n",
              "<polygon clip-path=\"url(#clip0401)\" points=\"\n",
              "211.005,1440.48 2321.26,1440.48 2321.26,47.2441 211.005,47.2441 \n",
              "  \" fill=\"#20242b\" fill-rule=\"evenodd\" fill-opacity=\"1\"/>\n",
              "<defs>\n",
              "  <clipPath id=\"clip0403\">\n",
              "    <rect x=\"211\" y=\"47\" width=\"2111\" height=\"1394\"/>\n",
              "  </clipPath>\n",
              "</defs>\n",
              "<polyline clip-path=\"url(#clip0403)\" style=\"stroke:#adb2b7; stroke-width:2; stroke-opacity:0.1; fill:none\" points=\"\n",
              "  266.74,1440.48 266.74,47.2441 \n",
              "  \"/>\n",
              "<polyline clip-path=\"url(#clip0403)\" style=\"stroke:#adb2b7; stroke-width:2; stroke-opacity:0.1; fill:none\" points=\"\n",
              "  665.699,1440.48 665.699,47.2441 \n",
              "  \"/>\n",
              "<polyline clip-path=\"url(#clip0403)\" style=\"stroke:#adb2b7; stroke-width:2; stroke-opacity:0.1; fill:none\" points=\"\n",
              "  1064.66,1440.48 1064.66,47.2441 \n",
              "  \"/>\n",
              "<polyline clip-path=\"url(#clip0403)\" style=\"stroke:#adb2b7; stroke-width:2; stroke-opacity:0.1; fill:none\" points=\"\n",
              "  1463.62,1440.48 1463.62,47.2441 \n",
              "  \"/>\n",
              "<polyline clip-path=\"url(#clip0403)\" style=\"stroke:#adb2b7; stroke-width:2; stroke-opacity:0.1; fill:none\" points=\"\n",
              "  1862.58,1440.48 1862.58,47.2441 \n",
              "  \"/>\n",
              "<polyline clip-path=\"url(#clip0403)\" style=\"stroke:#adb2b7; stroke-width:2; stroke-opacity:0.1; fill:none\" points=\"\n",
              "  2261.54,1440.48 2261.54,47.2441 \n",
              "  \"/>\n",
              "<polyline clip-path=\"url(#clip0403)\" style=\"stroke:#adb2b7; stroke-width:2; stroke-opacity:0.1; fill:none\" points=\"\n",
              "  211.005,1359.68 2321.26,1359.68 \n",
              "  \"/>\n",
              "<polyline clip-path=\"url(#clip0403)\" style=\"stroke:#adb2b7; stroke-width:2; stroke-opacity:0.1; fill:none\" points=\"\n",
              "  211.005,1116.72 2321.26,1116.72 \n",
              "  \"/>\n",
              "<polyline clip-path=\"url(#clip0403)\" style=\"stroke:#adb2b7; stroke-width:2; stroke-opacity:0.1; fill:none\" points=\"\n",
              "  211.005,873.764 2321.26,873.764 \n",
              "  \"/>\n",
              "<polyline clip-path=\"url(#clip0403)\" style=\"stroke:#adb2b7; stroke-width:2; stroke-opacity:0.1; fill:none\" points=\"\n",
              "  211.005,630.803 2321.26,630.803 \n",
              "  \"/>\n",
              "<polyline clip-path=\"url(#clip0403)\" style=\"stroke:#adb2b7; stroke-width:2; stroke-opacity:0.1; fill:none\" points=\"\n",
              "  211.005,387.843 2321.26,387.843 \n",
              "  \"/>\n",
              "<polyline clip-path=\"url(#clip0403)\" style=\"stroke:#adb2b7; stroke-width:2; stroke-opacity:0.1; fill:none\" points=\"\n",
              "  211.005,144.883 2321.26,144.883 \n",
              "  \"/>\n",
              "<polyline clip-path=\"url(#clip0401)\" style=\"stroke:#adb2b7; stroke-width:4; stroke-opacity:1; fill:none\" points=\"\n",
              "  211.005,1440.48 2321.26,1440.48 \n",
              "  \"/>\n",
              "<polyline clip-path=\"url(#clip0401)\" style=\"stroke:#adb2b7; stroke-width:4; stroke-opacity:1; fill:none\" points=\"\n",
              "  211.005,1440.48 211.005,47.2441 \n",
              "  \"/>\n",
              "<polyline clip-path=\"url(#clip0401)\" style=\"stroke:#adb2b7; stroke-width:4; stroke-opacity:1; fill:none\" points=\"\n",
              "  266.74,1440.48 266.74,1419.58 \n",
              "  \"/>\n",
              "<polyline clip-path=\"url(#clip0401)\" style=\"stroke:#adb2b7; stroke-width:4; stroke-opacity:1; fill:none\" points=\"\n",
              "  665.699,1440.48 665.699,1419.58 \n",
              "  \"/>\n",
              "<polyline clip-path=\"url(#clip0401)\" style=\"stroke:#adb2b7; stroke-width:4; stroke-opacity:1; fill:none\" points=\"\n",
              "  1064.66,1440.48 1064.66,1419.58 \n",
              "  \"/>\n",
              "<polyline clip-path=\"url(#clip0401)\" style=\"stroke:#adb2b7; stroke-width:4; stroke-opacity:1; fill:none\" points=\"\n",
              "  1463.62,1440.48 1463.62,1419.58 \n",
              "  \"/>\n",
              "<polyline clip-path=\"url(#clip0401)\" style=\"stroke:#adb2b7; stroke-width:4; stroke-opacity:1; fill:none\" points=\"\n",
              "  1862.58,1440.48 1862.58,1419.58 \n",
              "  \"/>\n",
              "<polyline clip-path=\"url(#clip0401)\" style=\"stroke:#adb2b7; stroke-width:4; stroke-opacity:1; fill:none\" points=\"\n",
              "  2261.54,1440.48 2261.54,1419.58 \n",
              "  \"/>\n",
              "<polyline clip-path=\"url(#clip0401)\" style=\"stroke:#adb2b7; stroke-width:4; stroke-opacity:1; fill:none\" points=\"\n",
              "  211.005,1359.68 242.659,1359.68 \n",
              "  \"/>\n",
              "<polyline clip-path=\"url(#clip0401)\" style=\"stroke:#adb2b7; stroke-width:4; stroke-opacity:1; fill:none\" points=\"\n",
              "  211.005,1116.72 242.659,1116.72 \n",
              "  \"/>\n",
              "<polyline clip-path=\"url(#clip0401)\" style=\"stroke:#adb2b7; stroke-width:4; stroke-opacity:1; fill:none\" points=\"\n",
              "  211.005,873.764 242.659,873.764 \n",
              "  \"/>\n",
              "<polyline clip-path=\"url(#clip0401)\" style=\"stroke:#adb2b7; stroke-width:4; stroke-opacity:1; fill:none\" points=\"\n",
              "  211.005,630.803 242.659,630.803 \n",
              "  \"/>\n",
              "<polyline clip-path=\"url(#clip0401)\" style=\"stroke:#adb2b7; stroke-width:4; stroke-opacity:1; fill:none\" points=\"\n",
              "  211.005,387.843 242.659,387.843 \n",
              "  \"/>\n",
              "<polyline clip-path=\"url(#clip0401)\" style=\"stroke:#adb2b7; stroke-width:4; stroke-opacity:1; fill:none\" points=\"\n",
              "  211.005,144.883 242.659,144.883 \n",
              "  \"/>\n",
              "<g clip-path=\"url(#clip0401)\">\n",
              "<text style=\"fill:#9e9e9e; fill-opacity:1; font-family:Arial,Helvetica Neue,Helvetica,sans-serif; font-size:48px; text-anchor:middle;\" transform=\"rotate(0, 266.74, 1494.48)\" x=\"266.74\" y=\"1494.48\">0</text>\n",
              "</g>\n",
              "<g clip-path=\"url(#clip0401)\">\n",
              "<text style=\"fill:#9e9e9e; fill-opacity:1; font-family:Arial,Helvetica Neue,Helvetica,sans-serif; font-size:48px; text-anchor:middle;\" transform=\"rotate(0, 665.699, 1494.48)\" x=\"665.699\" y=\"1494.48\">100</text>\n",
              "</g>\n",
              "<g clip-path=\"url(#clip0401)\">\n",
              "<text style=\"fill:#9e9e9e; fill-opacity:1; font-family:Arial,Helvetica Neue,Helvetica,sans-serif; font-size:48px; text-anchor:middle;\" transform=\"rotate(0, 1064.66, 1494.48)\" x=\"1064.66\" y=\"1494.48\">200</text>\n",
              "</g>\n",
              "<g clip-path=\"url(#clip0401)\">\n",
              "<text style=\"fill:#9e9e9e; fill-opacity:1; font-family:Arial,Helvetica Neue,Helvetica,sans-serif; font-size:48px; text-anchor:middle;\" transform=\"rotate(0, 1463.62, 1494.48)\" x=\"1463.62\" y=\"1494.48\">300</text>\n",
              "</g>\n",
              "<g clip-path=\"url(#clip0401)\">\n",
              "<text style=\"fill:#9e9e9e; fill-opacity:1; font-family:Arial,Helvetica Neue,Helvetica,sans-serif; font-size:48px; text-anchor:middle;\" transform=\"rotate(0, 1862.58, 1494.48)\" x=\"1862.58\" y=\"1494.48\">400</text>\n",
              "</g>\n",
              "<g clip-path=\"url(#clip0401)\">\n",
              "<text style=\"fill:#9e9e9e; fill-opacity:1; font-family:Arial,Helvetica Neue,Helvetica,sans-serif; font-size:48px; text-anchor:middle;\" transform=\"rotate(0, 2261.54, 1494.48)\" x=\"2261.54\" y=\"1494.48\">500</text>\n",
              "</g>\n",
              "<g clip-path=\"url(#clip0401)\">\n",
              "<text style=\"fill:#9e9e9e; fill-opacity:1; font-family:Arial,Helvetica Neue,Helvetica,sans-serif; font-size:48px; text-anchor:end;\" transform=\"rotate(0, 187.005, 1377.18)\" x=\"187.005\" y=\"1377.18\">30</text>\n",
              "</g>\n",
              "<g clip-path=\"url(#clip0401)\">\n",
              "<text style=\"fill:#9e9e9e; fill-opacity:1; font-family:Arial,Helvetica Neue,Helvetica,sans-serif; font-size:48px; text-anchor:end;\" transform=\"rotate(0, 187.005, 1134.22)\" x=\"187.005\" y=\"1134.22\">35</text>\n",
              "</g>\n",
              "<g clip-path=\"url(#clip0401)\">\n",
              "<text style=\"fill:#9e9e9e; fill-opacity:1; font-family:Arial,Helvetica Neue,Helvetica,sans-serif; font-size:48px; text-anchor:end;\" transform=\"rotate(0, 187.005, 891.264)\" x=\"187.005\" y=\"891.264\">40</text>\n",
              "</g>\n",
              "<g clip-path=\"url(#clip0401)\">\n",
              "<text style=\"fill:#9e9e9e; fill-opacity:1; font-family:Arial,Helvetica Neue,Helvetica,sans-serif; font-size:48px; text-anchor:end;\" transform=\"rotate(0, 187.005, 648.303)\" x=\"187.005\" y=\"648.303\">45</text>\n",
              "</g>\n",
              "<g clip-path=\"url(#clip0401)\">\n",
              "<text style=\"fill:#9e9e9e; fill-opacity:1; font-family:Arial,Helvetica Neue,Helvetica,sans-serif; font-size:48px; text-anchor:end;\" transform=\"rotate(0, 187.005, 405.343)\" x=\"187.005\" y=\"405.343\">50</text>\n",
              "</g>\n",
              "<g clip-path=\"url(#clip0401)\">\n",
              "<text style=\"fill:#9e9e9e; fill-opacity:1; font-family:Arial,Helvetica Neue,Helvetica,sans-serif; font-size:48px; text-anchor:end;\" transform=\"rotate(0, 187.005, 162.383)\" x=\"187.005\" y=\"162.383\">55</text>\n",
              "</g>\n",
              "<g clip-path=\"url(#clip0401)\">\n",
              "<text style=\"fill:#9e9e9e; fill-opacity:1; font-family:Arial,Helvetica Neue,Helvetica,sans-serif; font-size:66px; text-anchor:middle;\" transform=\"rotate(0, 1266.13, 1590.4)\" x=\"1266.13\" y=\"1590.4\">Photo current (uA)</text>\n",
              "</g>\n",
              "<g clip-path=\"url(#clip0401)\">\n",
              "<text style=\"fill:#9e9e9e; fill-opacity:1; font-family:Arial,Helvetica Neue,Helvetica,sans-serif; font-size:66px; text-anchor:middle;\" transform=\"rotate(-90, 57.6, 743.863)\" x=\"57.6\" y=\"743.863\">SNR (dB)</text>\n",
              "</g>\n",
              "<polyline clip-path=\"url(#clip0403)\" style=\"stroke:#fe4365; stroke-width:4; stroke-opacity:1; fill:none\" points=\"\n",
              "  270.729,1020.07 274.719,873.852 278.708,788.384 282.698,727.807 286.688,680.885 290.677,642.613 294.667,610.321 298.656,582.415 302.646,557.867 306.636,535.976 \n",
              "  310.625,516.239 314.615,498.286 318.604,481.838 322.594,466.675 326.583,452.623 330.573,439.544 334.563,427.321 338.552,415.861 342.542,405.084 346.531,394.921 \n",
              "  350.521,385.316 354.511,376.219 358.5,367.586 362.49,359.379 366.479,351.566 370.469,344.117 374.459,337.005 378.448,330.208 382.438,323.704 386.427,317.475 \n",
              "  390.417,311.503 394.407,305.772 398.396,300.269 402.386,294.981 406.375,289.895 410.365,285.001 414.355,280.288 418.344,275.748 422.334,271.371 426.323,267.149 \n",
              "  430.313,263.075 434.302,259.143 438.292,255.344 442.282,251.674 446.271,248.127 450.261,244.696 454.25,241.378 458.24,238.166 462.23,235.058 466.219,232.048 \n",
              "  470.209,229.133 474.198,226.308 478.188,223.57 482.178,220.916 486.167,218.342 490.157,215.846 494.146,213.424 498.136,211.073 502.126,208.792 506.115,206.576 \n",
              "  510.105,204.425 514.094,202.335 518.084,200.305 522.073,198.331 526.063,196.413 530.053,194.549 534.042,192.736 538.032,190.972 542.021,189.257 546.011,187.588 \n",
              "  550.001,185.963 553.99,184.383 557.98,182.843 561.969,181.345 565.959,179.886 569.949,178.464 573.938,177.079 577.928,175.73 581.917,174.415 585.907,173.133 \n",
              "  589.897,171.884 593.886,170.666 597.876,169.478 601.865,168.319 605.855,167.189 609.845,166.086 613.834,165.01 617.824,163.96 621.813,162.935 625.803,161.935 \n",
              "  629.792,160.958 633.782,160.004 637.772,159.072 641.761,158.162 645.751,157.273 649.74,156.404 653.73,155.555 657.72,154.726 661.709,153.915 665.699,153.122 \n",
              "  669.688,152.347 673.678,151.589 677.668,150.848 681.657,150.123 685.647,149.414 689.636,148.72 693.626,148.042 697.616,147.377 701.605,146.727 705.595,146.091 \n",
              "  709.584,145.467 713.574,144.857 717.564,144.26 721.553,143.675 725.543,143.102 729.532,142.541 733.522,141.991 737.511,141.453 741.501,140.925 745.491,140.407 \n",
              "  749.48,139.901 753.47,139.404 757.459,138.916 761.449,138.439 765.439,137.971 769.428,137.511 773.418,137.061 777.407,136.619 781.397,136.186 785.387,135.761 \n",
              "  789.376,135.344 793.366,134.935 797.355,134.533 801.345,134.139 805.335,133.752 809.324,133.372 813.314,132.999 817.303,132.633 821.293,132.274 825.282,131.921 \n",
              "  829.272,131.574 833.262,131.234 837.251,130.9 841.241,130.571 845.23,130.248 849.22,129.931 853.21,129.62 857.199,129.314 861.189,129.013 865.178,128.717 \n",
              "  869.168,128.426 873.158,128.14 877.147,127.859 881.137,127.583 885.126,127.311 889.116,127.044 893.106,126.782 897.095,126.523 901.085,126.269 905.074,126.019 \n",
              "  909.064,125.773 913.054,125.531 917.043,125.293 921.033,125.059 925.022,124.828 929.012,124.601 933.001,124.378 936.991,124.158 940.981,123.942 944.97,123.729 \n",
              "  948.96,123.519 952.949,123.312 956.939,123.109 960.929,122.909 964.918,122.712 968.908,122.518 972.897,122.326 976.887,122.138 980.877,121.952 984.866,121.77 \n",
              "  988.856,121.589 992.845,121.412 996.835,121.237 1000.82,121.065 1004.81,120.895 1008.8,120.728 1012.79,120.563 1016.78,120.4 1020.77,120.24 1024.76,120.082 \n",
              "  1028.75,119.926 1032.74,119.773 1036.73,119.621 1040.72,119.472 1044.71,119.325 1048.7,119.18 1052.69,119.037 1056.68,118.896 1060.67,118.756 1064.66,118.619 \n",
              "  1068.65,118.483 1072.64,118.35 1076.63,118.218 1080.62,118.088 1084.61,117.96 1088.6,117.833 1092.59,117.708 1096.57,117.585 1100.56,117.463 1104.55,117.343 \n",
              "  1108.54,117.224 1112.53,117.107 1116.52,116.992 1120.51,116.878 1124.5,116.765 1128.49,116.654 1132.48,116.545 1136.47,116.436 1140.46,116.329 1144.45,116.224 \n",
              "  1148.44,116.12 1152.43,116.017 1156.42,115.915 1160.41,115.815 1164.4,115.715 1168.39,115.617 1172.38,115.521 1176.37,115.425 1180.36,115.331 1184.35,115.237 \n",
              "  1188.34,115.145 1192.32,115.054 1196.31,114.964 1200.3,114.875 1204.29,114.788 1208.28,114.701 1212.27,114.615 1216.26,114.53 1220.25,114.446 1224.24,114.364 \n",
              "  1228.23,114.282 1232.22,114.201 1236.21,114.121 1240.2,114.042 1244.19,113.964 1248.18,113.887 1252.17,113.81 1256.16,113.735 1260.15,113.66 1264.14,113.586 \n",
              "  1268.13,113.513 1272.12,113.441 1276.11,113.37 1280.1,113.299 1284.09,113.229 1288.08,113.16 1292.06,113.092 1296.05,113.025 1300.04,112.958 1304.03,112.892 \n",
              "  1308.02,112.826 1312.01,112.762 1316,112.698 1319.99,112.635 1323.98,112.572 1327.97,112.51 1331.96,112.449 1335.95,112.388 1339.94,112.328 1343.93,112.269 \n",
              "  1347.92,112.21 1351.91,112.152 1355.9,112.095 1359.89,112.038 1363.88,111.981 1367.87,111.926 1371.86,111.87 1375.85,111.816 1379.84,111.762 1383.83,111.708 \n",
              "  1387.81,111.655 1391.8,111.603 1395.79,111.551 1399.78,111.5 1403.77,111.449 1407.76,111.398 1411.75,111.348 1415.74,111.299 1419.73,111.25 1423.72,111.202 \n",
              "  1427.71,111.154 1431.7,111.106 1435.69,111.059 1439.68,111.013 1443.67,110.967 1447.66,110.921 1451.65,110.876 1455.64,110.831 1459.63,110.787 1463.62,110.743 \n",
              "  1467.61,110.699 1471.6,110.656 1475.59,110.614 1479.58,110.571 1483.57,110.529 1487.55,110.488 1491.54,110.447 1495.53,110.406 1499.52,110.366 1503.51,110.326 \n",
              "  1507.5,110.286 1511.49,110.247 1515.48,110.208 1519.47,110.169 1523.46,110.131 1527.45,110.093 1531.44,110.056 1535.43,110.019 1539.42,109.982 1543.41,109.946 \n",
              "  1547.4,109.909 1551.39,109.874 1555.38,109.838 1559.37,109.803 1563.36,109.768 1567.35,109.733 1571.34,109.699 1575.33,109.665 1579.32,109.631 1583.3,109.598 \n",
              "  1587.29,109.565 1591.28,109.532 1595.27,109.5 1599.26,109.467 1603.25,109.435 1607.24,109.404 1611.23,109.372 1615.22,109.341 1619.21,109.31 1623.2,109.28 \n",
              "  1627.19,109.249 1631.18,109.219 1635.17,109.189 1639.16,109.16 1643.15,109.13 1647.14,109.101 1651.13,109.072 1655.12,109.044 1659.11,109.015 1663.1,108.987 \n",
              "  1667.09,108.959 1671.08,108.931 1675.07,108.904 1679.06,108.877 1683.04,108.85 1687.03,108.823 1691.02,108.796 1695.01,108.77 1699,108.744 1702.99,108.718 \n",
              "  1706.98,108.692 1710.97,108.667 1714.96,108.641 1718.95,108.616 1722.94,108.591 1726.93,108.566 1730.92,108.542 1734.91,108.518 1738.9,108.493 1742.89,108.469 \n",
              "  1746.88,108.446 1750.87,108.422 1754.86,108.399 1758.85,108.375 1762.84,108.352 1766.83,108.329 1770.82,108.307 1774.81,108.284 1778.8,108.262 1782.78,108.24 \n",
              "  1786.77,108.218 1790.76,108.196 1794.75,108.174 1798.74,108.153 1802.73,108.131 1806.72,108.11 1810.71,108.089 1814.7,108.068 1818.69,108.048 1822.68,108.027 \n",
              "  1826.67,108.007 1830.66,107.986 1834.65,107.966 1838.64,107.946 1842.63,107.926 1846.62,107.907 1850.61,107.887 1854.6,107.868 1858.59,107.849 1862.58,107.829 \n",
              "  1866.57,107.811 1870.56,107.792 1874.55,107.773 1878.53,107.754 1882.52,107.736 1886.51,107.718 1890.5,107.7 1894.49,107.682 1898.48,107.664 1902.47,107.646 \n",
              "  1906.46,107.628 1910.45,107.611 1914.44,107.593 1918.43,107.576 1922.42,107.559 1926.41,107.542 1930.4,107.525 1934.39,107.508 1938.38,107.491 1942.37,107.475 \n",
              "  1946.36,107.458 1950.35,107.442 1954.34,107.426 1958.33,107.41 1962.32,107.394 1966.31,107.378 1970.3,107.362 1974.29,107.346 1978.27,107.331 1982.26,107.315 \n",
              "  1986.25,107.3 1990.24,107.285 1994.23,107.27 1998.22,107.255 2002.21,107.24 2006.2,107.225 2010.19,107.21 2014.18,107.195 2018.17,107.181 2022.16,107.166 \n",
              "  2026.15,107.152 2030.14,107.138 2034.13,107.124 2038.12,107.109 2042.11,107.095 2046.1,107.082 2050.09,107.068 2054.08,107.054 2058.07,107.04 2062.06,107.027 \n",
              "  2066.05,107.013 2070.04,107 2074.02,106.987 2078.01,106.974 2082,106.96 2085.99,106.947 2089.98,106.935 2093.97,106.922 2097.96,106.909 2101.95,106.896 \n",
              "  2105.94,106.884 2109.93,106.871 2113.92,106.859 2117.91,106.846 2121.9,106.834 2125.89,106.822 2129.88,106.81 2133.87,106.797 2137.86,106.785 2141.85,106.774 \n",
              "  2145.84,106.762 2149.83,106.75 2153.82,106.738 2157.81,106.727 2161.8,106.715 2165.79,106.704 2169.78,106.692 2173.76,106.681 2177.75,106.67 2181.74,106.658 \n",
              "  2185.73,106.647 2189.72,106.636 2193.71,106.625 2197.7,106.614 2201.69,106.603 2205.68,106.593 2209.67,106.582 2213.66,106.571 2217.65,106.56 2221.64,106.55 \n",
              "  2225.63,106.539 2229.62,106.529 2233.61,106.519 2237.6,106.508 2241.59,106.498 2245.58,106.488 2249.57,106.478 2253.56,106.468 2257.55,106.458 2261.54,106.448 \n",
              "  \n",
              "  \"/>\n",
              "<polyline clip-path=\"url(#clip0403)\" style=\"stroke:#eca25c; stroke-width:4; stroke-opacity:1; fill:none\" points=\"\n",
              "  270.729,1398.16 274.719,1251.88 278.708,1166.32 282.698,1105.61 286.688,1058.52 290.677,1020.04 294.667,987.509 298.656,959.33 302.646,934.474 306.636,912.239 \n",
              "  310.625,892.126 314.615,873.764 318.604,856.872 322.594,841.233 326.583,826.673 330.573,813.053 334.563,800.26 338.552,788.197 342.542,776.787 346.531,765.963 \n",
              "  350.521,755.666 354.511,745.849 358.5,736.468 362.49,727.487 366.479,718.872 370.469,710.595 374.459,702.631 378.448,694.956 382.438,687.551 386.427,680.396 \n",
              "  390.417,673.477 394.407,666.777 398.396,660.283 402.386,653.983 406.375,647.866 410.365,641.921 414.355,636.139 418.344,630.511 422.334,625.029 426.323,619.686 \n",
              "  430.313,614.475 434.302,609.39 438.292,604.424 442.282,599.573 446.271,594.83 450.261,590.192 454.25,585.653 458.24,581.21 462.23,576.859 466.219,572.596 \n",
              "  470.209,568.417 474.198,564.319 478.188,560.299 482.178,556.354 486.167,552.482 490.157,548.68 494.146,544.944 498.136,541.274 502.126,537.667 506.115,534.12 \n",
              "  510.105,530.632 514.094,527.2 518.084,523.824 522.073,520.5 526.063,517.228 530.053,514.006 534.042,510.833 538.032,507.706 542.021,504.626 546.011,501.589 \n",
              "  550.001,498.596 553.99,495.644 557.98,492.733 561.969,489.862 565.959,487.029 569.949,484.234 573.938,481.476 577.928,478.752 581.917,476.064 585.907,473.41 \n",
              "  589.897,470.788 593.886,468.199 597.876,465.641 601.865,463.113 605.855,460.616 609.845,458.148 613.834,455.708 617.824,453.296 621.813,450.911 625.803,448.554 \n",
              "  629.792,446.222 633.782,443.915 637.772,441.634 641.761,439.377 645.751,437.144 649.74,434.934 653.73,432.747 657.72,430.582 661.709,428.44 665.699,426.319 \n",
              "  669.688,424.219 673.678,422.14 677.668,420.081 681.657,418.042 685.647,416.023 689.636,414.022 693.626,412.041 697.616,410.078 701.605,408.133 705.595,406.206 \n",
              "  709.584,404.296 713.574,402.403 717.564,400.527 721.553,398.668 725.543,396.825 729.532,394.998 733.522,393.186 737.511,391.39 741.501,389.609 745.491,387.843 \n",
              "  749.48,386.092 753.47,384.355 757.459,382.632 761.449,380.924 765.439,379.229 769.428,377.547 773.418,375.879 777.407,374.224 781.397,372.581 785.387,370.952 \n",
              "  789.376,369.335 793.366,367.73 797.355,366.137 801.345,364.556 805.335,362.987 809.324,361.43 813.314,359.884 817.303,358.349 821.293,356.825 825.282,355.312 \n",
              "  829.272,353.81 833.262,352.319 837.251,350.838 841.241,349.368 845.23,347.907 849.22,346.457 853.21,345.016 857.199,343.585 861.189,342.164 865.178,340.753 \n",
              "  869.168,339.351 873.158,337.958 877.147,336.574 881.137,335.199 885.126,333.833 889.116,332.476 893.106,331.127 897.095,329.788 901.085,328.456 905.074,327.133 \n",
              "  909.064,325.818 913.054,324.511 917.043,323.213 921.033,321.922 925.022,320.639 929.012,319.364 933.001,318.097 936.991,316.837 940.981,315.584 944.97,314.339 \n",
              "  948.96,313.102 952.949,311.871 956.939,310.648 960.929,309.431 964.918,308.222 968.908,307.019 972.897,305.824 976.887,304.635 980.877,303.453 984.866,302.277 \n",
              "  988.856,301.108 992.845,299.945 996.835,298.789 1000.82,297.639 1004.81,296.495 1008.8,295.357 1012.79,294.226 1016.78,293.1 1020.77,291.981 1024.76,290.867 \n",
              "  1028.75,289.759 1032.74,288.657 1036.73,287.561 1040.72,286.47 1044.71,285.385 1048.7,284.306 1052.69,283.232 1056.68,282.163 1060.67,281.1 1064.66,280.042 \n",
              "  1068.65,278.99 1072.64,277.943 1076.63,276.901 1080.62,275.863 1084.61,274.832 1088.6,273.805 1092.59,272.783 1096.57,271.766 1100.56,270.753 1104.55,269.746 \n",
              "  1108.54,268.744 1112.53,267.746 1116.52,266.753 1120.51,265.764 1124.5,264.78 1128.49,263.801 1132.48,262.826 1136.47,261.856 1140.46,260.89 1144.45,259.929 \n",
              "  1148.44,258.972 1152.43,258.019 1156.42,257.071 1160.41,256.126 1164.4,255.186 1168.39,254.251 1172.38,253.319 1176.37,252.391 1180.36,251.468 1184.35,250.548 \n",
              "  1188.34,249.633 1192.32,248.721 1196.31,247.813 1200.3,246.91 1204.29,246.01 1208.28,245.114 1212.27,244.221 1216.26,243.333 1220.25,242.448 1224.24,241.567 \n",
              "  1228.23,240.689 1232.22,239.815 1236.21,238.945 1240.2,238.078 1244.19,237.215 1248.18,236.356 1252.17,235.5 1256.16,234.647 1260.15,233.798 1264.14,232.952 \n",
              "  1268.13,232.109 1272.12,231.27 1276.11,230.435 1280.1,229.602 1284.09,228.773 1288.08,227.947 1292.06,227.124 1296.05,226.305 1300.04,225.488 1304.03,224.675 \n",
              "  1308.02,223.865 1312.01,223.058 1316,222.254 1319.99,221.453 1323.98,220.655 1327.97,219.86 1331.96,219.069 1335.95,218.28 1339.94,217.494 1343.93,216.711 \n",
              "  1347.92,215.931 1351.91,215.153 1355.9,214.379 1359.89,213.607 1363.88,212.838 1367.87,212.072 1371.86,211.309 1375.85,210.549 1379.84,209.791 1383.83,209.036 \n",
              "  1387.81,208.284 1391.8,207.534 1395.79,206.787 1399.78,206.042 1403.77,205.301 1407.76,204.562 1411.75,203.825 1415.74,203.091 1419.73,202.359 1423.72,201.631 \n",
              "  1427.71,200.904 1431.7,200.18 1435.69,199.459 1439.68,198.74 1443.67,198.023 1447.66,197.309 1451.65,196.597 1455.64,195.888 1459.63,195.181 1463.62,194.476 \n",
              "  1467.61,193.774 1471.6,193.074 1475.59,192.376 1479.58,191.681 1483.57,190.988 1487.55,190.297 1491.54,189.609 1495.53,188.922 1499.52,188.238 1503.51,187.556 \n",
              "  1507.5,186.877 1511.49,186.199 1515.48,185.524 1519.47,184.851 1523.46,184.18 1527.45,183.511 1531.44,182.844 1535.43,182.18 1539.42,181.517 1543.41,180.856 \n",
              "  1547.4,180.198 1551.39,179.542 1555.38,178.887 1559.37,178.235 1563.36,177.585 1567.35,176.936 1571.34,176.29 1575.33,175.646 1579.32,175.003 1583.3,174.363 \n",
              "  1587.29,173.724 1591.28,173.088 1595.27,172.453 1599.26,171.82 1603.25,171.189 1607.24,170.56 1611.23,169.933 1615.22,169.308 1619.21,168.684 1623.2,168.063 \n",
              "  1627.19,167.443 1631.18,166.825 1635.17,166.209 1639.16,165.594 1643.15,164.982 1647.14,164.371 1651.13,163.762 1655.12,163.155 1659.11,162.549 1663.1,161.945 \n",
              "  1667.09,161.343 1671.08,160.743 1675.07,160.144 1679.06,159.547 1683.04,158.952 1687.03,158.358 1691.02,157.766 1695.01,157.176 1699,156.587 1702.99,156 \n",
              "  1706.98,155.415 1710.97,154.831 1714.96,154.249 1718.95,153.669 1722.94,153.09 1726.93,152.512 1730.92,151.936 1734.91,151.362 1738.9,150.789 1742.89,150.218 \n",
              "  1746.88,149.649 1750.87,149.081 1754.86,148.514 1758.85,147.949 1762.84,147.386 1766.83,146.824 1770.82,146.263 1774.81,145.704 1778.8,145.147 1782.78,144.59 \n",
              "  1786.77,144.036 1790.76,143.483 1794.75,142.931 1798.74,142.381 1802.73,141.832 1806.72,141.284 1810.71,140.738 1814.7,140.194 1818.69,139.651 1822.68,139.109 \n",
              "  1826.67,138.568 1830.66,138.029 1834.65,137.492 1838.64,136.955 1842.63,136.42 1846.62,135.887 1850.61,135.355 1854.6,134.824 1858.59,134.294 1862.58,133.766 \n",
              "  1866.57,133.239 1870.56,132.713 1874.55,132.189 1878.53,131.666 1882.52,131.144 1886.51,130.624 1890.5,130.105 1894.49,129.587 1898.48,129.07 1902.47,128.555 \n",
              "  1906.46,128.041 1910.45,127.528 1914.44,127.016 1918.43,126.506 1922.42,125.997 1926.41,125.489 1930.4,124.982 1934.39,124.477 1938.38,123.973 1942.37,123.47 \n",
              "  1946.36,122.968 1950.35,122.467 1954.34,121.968 1958.33,121.469 1962.32,120.972 1966.31,120.476 1970.3,119.981 1974.29,119.488 1978.27,118.995 1982.26,118.504 \n",
              "  1986.25,118.014 1990.24,117.525 1994.23,117.037 1998.22,116.55 2002.21,116.064 2006.2,115.58 2010.19,115.096 2014.18,114.614 2018.17,114.133 2022.16,113.652 \n",
              "  2026.15,113.173 2030.14,112.695 2034.13,112.218 2038.12,111.743 2042.11,111.268 2046.1,110.794 2050.09,110.321 2054.08,109.85 2058.07,109.379 2062.06,108.91 \n",
              "  2066.05,108.441 2070.04,107.974 2074.02,107.508 2078.01,107.042 2082,106.578 2085.99,106.115 2089.98,105.652 2093.97,105.191 2097.96,104.731 2101.95,104.272 \n",
              "  2105.94,103.813 2109.93,103.356 2113.92,102.9 2117.91,102.444 2121.9,101.99 2125.89,101.537 2129.88,101.084 2133.87,100.633 2137.86,100.183 2141.85,99.7331 \n",
              "  2145.84,99.2846 2149.83,98.837 2153.82,98.3904 2157.81,97.9447 2161.8,97.4999 2165.79,97.0561 2169.78,96.6132 2173.76,96.1713 2177.75,95.7302 2181.74,95.2901 \n",
              "  2185.73,94.8509 2189.72,94.4127 2193.71,93.9753 2197.7,93.5388 2201.69,93.1033 2205.68,92.6686 2209.67,92.2348 2213.66,91.8019 2217.65,91.3699 2221.64,90.9388 \n",
              "  2225.63,90.5086 2229.62,90.0792 2233.61,89.6507 2237.6,89.2231 2241.59,88.7963 2245.58,88.3704 2249.57,87.9454 2253.56,87.5212 2257.55,87.0979 2261.54,86.6754 \n",
              "  \n",
              "  \"/>\n",
              "<polyline clip-path=\"url(#clip0403)\" style=\"stroke:#3f9778; stroke-width:4; stroke-opacity:1; fill:none\" points=\"\n",
              "  270.729,1401.05 274.719,1254.78 278.708,1169.21 282.698,1108.51 286.688,1061.42 290.677,1022.95 294.667,990.426 298.656,962.254 302.646,937.406 306.636,915.181 \n",
              "  310.625,895.078 314.615,876.727 318.604,859.848 322.594,844.222 326.583,829.676 330.573,816.072 334.563,803.294 338.552,791.249 342.542,779.857 346.531,769.051 \n",
              "  350.521,758.775 354.511,748.979 358.5,739.62 362.49,730.661 366.479,722.071 370.469,713.818 374.459,705.88 378.448,698.232 382.438,690.854 386.427,683.728 \n",
              "  390.417,676.838 394.407,670.169 398.396,663.706 402.386,657.439 406.375,651.355 410.365,645.444 414.355,639.698 418.344,634.106 422.334,628.661 426.323,623.357 \n",
              "  430.313,618.185 434.302,613.14 438.292,608.215 442.282,603.405 446.271,598.706 450.261,594.111 454.25,589.617 458.24,585.22 462.23,580.915 466.219,576.699 \n",
              "  470.209,572.569 474.198,568.52 478.188,564.551 482.178,560.658 486.167,556.838 490.157,553.088 494.146,549.407 498.136,545.792 502.126,542.24 506.115,538.75 \n",
              "  510.105,535.32 514.094,531.947 518.084,528.63 522.073,525.367 526.063,522.157 530.053,518.997 534.042,515.887 538.032,512.824 542.021,509.809 546.011,506.838 \n",
              "  550.001,503.911 553.99,501.028 557.98,498.185 561.969,495.384 565.959,492.622 569.949,489.898 573.938,487.211 577.928,484.561 581.917,481.947 585.907,479.367 \n",
              "  589.897,476.822 593.886,474.309 597.876,471.829 601.865,469.38 605.855,466.962 609.845,464.573 613.834,462.215 617.824,459.885 621.813,457.583 625.803,455.309 \n",
              "  629.792,453.062 633.782,450.841 637.772,448.645 641.761,446.475 645.751,444.33 649.74,442.209 653.73,440.112 657.72,438.038 661.709,435.987 665.699,433.958 \n",
              "  669.688,431.952 673.678,429.966 677.668,428.002 681.657,426.059 685.647,424.136 689.636,422.233 693.626,420.349 697.616,418.485 701.605,416.64 705.595,414.813 \n",
              "  709.584,413.005 713.574,411.214 717.564,409.441 721.553,407.686 725.543,405.947 729.532,404.226 733.522,402.52 737.511,400.831 741.501,399.158 745.491,397.501 \n",
              "  749.48,395.859 753.47,394.232 757.459,392.621 761.449,391.024 765.439,389.441 769.428,387.873 773.418,386.319 777.407,384.779 781.397,383.252 785.387,381.739 \n",
              "  789.376,380.239 793.366,378.752 797.355,377.278 801.345,375.817 805.335,374.368 809.324,372.932 813.314,371.507 817.303,370.095 821.293,368.695 825.282,367.306 \n",
              "  829.272,365.929 833.262,364.563 837.251,363.208 841.241,361.864 845.23,360.532 849.22,359.21 853.21,357.898 857.199,356.597 861.189,355.307 865.178,354.027 \n",
              "  869.168,352.756 873.158,351.496 877.147,350.246 881.137,349.005 885.126,347.774 889.116,346.552 893.106,345.34 897.095,344.137 901.085,342.943 905.074,341.758 \n",
              "  909.064,340.583 913.054,339.415 917.043,338.257 921.033,337.107 925.022,335.966 929.012,334.833 933.001,333.709 936.991,332.593 940.981,331.485 944.97,330.384 \n",
              "  948.96,329.292 952.949,328.208 956.939,327.132 960.929,326.063 964.918,325.002 968.908,323.948 972.897,322.902 976.887,321.863 980.877,320.832 984.866,319.807 \n",
              "  988.856,318.79 992.845,317.78 996.835,316.777 1000.82,315.781 1004.81,314.791 1008.8,313.809 1012.79,312.833 1016.78,311.864 1020.77,310.901 1024.76,309.945 \n",
              "  1028.75,308.995 1032.74,308.052 1036.73,307.115 1040.72,306.184 1044.71,305.26 1048.7,304.341 1052.69,303.429 1056.68,302.522 1060.67,301.622 1064.66,300.727 \n",
              "  1068.65,299.839 1072.64,298.956 1076.63,298.079 1080.62,297.207 1084.61,296.341 1088.6,295.481 1092.59,294.626 1096.57,293.777 1100.56,292.933 1104.55,292.094 \n",
              "  1108.54,291.261 1112.53,290.433 1116.52,289.61 1120.51,288.793 1124.5,287.98 1128.49,287.173 1132.48,286.371 1136.47,285.573 1140.46,284.781 1144.45,283.994 \n",
              "  1148.44,283.211 1152.43,282.433 1156.42,281.66 1160.41,280.892 1164.4,280.128 1168.39,279.369 1172.38,278.615 1176.37,277.866 1180.36,277.12 1184.35,276.38 \n",
              "  1188.34,275.643 1192.32,274.912 1196.31,274.184 1200.3,273.461 1204.29,272.743 1208.28,272.028 1212.27,271.318 1216.26,270.612 1220.25,269.91 1224.24,269.213 \n",
              "  1228.23,268.519 1232.22,267.829 1236.21,267.144 1240.2,266.463 1244.19,265.785 1248.18,265.112 1252.17,264.442 1256.16,263.776 1260.15,263.115 1264.14,262.457 \n",
              "  1268.13,261.802 1272.12,261.152 1276.11,260.505 1280.1,259.862 1284.09,259.223 1288.08,258.587 1292.06,257.955 1296.05,257.326 1300.04,256.701 1304.03,256.08 \n",
              "  1308.02,255.462 1312.01,254.848 1316,254.237 1319.99,253.629 1323.98,253.025 1327.97,252.425 1331.96,251.827 1335.95,251.233 1339.94,250.642 1343.93,250.055 \n",
              "  1347.92,249.471 1351.91,248.89 1355.9,248.312 1359.89,247.737 1363.88,247.166 1367.87,246.598 1371.86,246.033 1375.85,245.471 1379.84,244.912 1383.83,244.356 \n",
              "  1387.81,243.803 1391.8,243.253 1395.79,242.706 1399.78,242.162 1403.77,241.621 1407.76,241.083 1411.75,240.547 1415.74,240.015 1419.73,239.486 1423.72,238.959 \n",
              "  1427.71,238.435 1431.7,237.914 1435.69,237.396 1439.68,236.88 1443.67,236.368 1447.66,235.858 1451.65,235.35 1455.64,234.846 1459.63,234.344 1463.62,233.845 \n",
              "  1467.61,233.348 1471.6,232.854 1475.59,232.362 1479.58,231.873 1483.57,231.387 1487.55,230.903 1491.54,230.422 1495.53,229.943 1499.52,229.467 1503.51,228.993 \n",
              "  1507.5,228.522 1511.49,228.053 1515.48,227.586 1519.47,227.122 1523.46,226.66 1527.45,226.201 1531.44,225.744 1535.43,225.29 1539.42,224.837 1543.41,224.387 \n",
              "  1547.4,223.94 1551.39,223.494 1555.38,223.051 1559.37,222.61 1563.36,222.172 1567.35,221.735 1571.34,221.301 1575.33,220.869 1579.32,220.439 1583.3,220.011 \n",
              "  1587.29,219.586 1591.28,219.163 1595.27,218.741 1599.26,218.322 1603.25,217.905 1607.24,217.49 1611.23,217.077 1615.22,216.667 1619.21,216.258 1623.2,215.851 \n",
              "  1627.19,215.446 1631.18,215.044 1635.17,214.643 1639.16,214.244 1643.15,213.847 1647.14,213.453 1651.13,213.06 1655.12,212.669 1659.11,212.28 1663.1,211.893 \n",
              "  1667.09,211.507 1671.08,211.124 1675.07,210.743 1679.06,210.363 1683.04,209.985 1687.03,209.609 1691.02,209.235 1695.01,208.863 1699,208.493 1702.99,208.124 \n",
              "  1706.98,207.757 1710.97,207.392 1714.96,207.029 1718.95,206.667 1722.94,206.307 1726.93,205.949 1730.92,205.593 1734.91,205.238 1738.9,204.885 1742.89,204.534 \n",
              "  1746.88,204.184 1750.87,203.836 1754.86,203.49 1758.85,203.145 1762.84,202.802 1766.83,202.461 1770.82,202.121 1774.81,201.783 1778.8,201.446 1782.78,201.111 \n",
              "  1786.77,200.778 1790.76,200.446 1794.75,200.116 1798.74,199.787 1802.73,199.46 1806.72,199.134 1810.71,198.81 1814.7,198.487 1818.69,198.166 1822.68,197.847 \n",
              "  1826.67,197.528 1830.66,197.212 1834.65,196.897 1838.64,196.583 1842.63,196.271 1846.62,195.96 1850.61,195.65 1854.6,195.343 1858.59,195.036 1862.58,194.731 \n",
              "  1866.57,194.427 1870.56,194.125 1874.55,193.824 1878.53,193.524 1882.52,193.226 1886.51,192.929 1890.5,192.634 1894.49,192.34 1898.48,192.047 1902.47,191.756 \n",
              "  1906.46,191.466 1910.45,191.177 1914.44,190.889 1918.43,190.603 1922.42,190.318 1926.41,190.035 1930.4,189.753 1934.39,189.472 1938.38,189.192 1942.37,188.913 \n",
              "  1946.36,188.636 1950.35,188.36 1954.34,188.085 1958.33,187.812 1962.32,187.54 1966.31,187.268 1970.3,186.999 1974.29,186.73 1978.27,186.462 1982.26,186.196 \n",
              "  1986.25,185.931 1990.24,185.667 1994.23,185.404 1998.22,185.143 2002.21,184.882 2006.2,184.623 2010.19,184.365 2014.18,184.108 2018.17,183.852 2022.16,183.597 \n",
              "  2026.15,183.344 2030.14,183.091 2034.13,182.84 2038.12,182.59 2042.11,182.341 2046.1,182.092 2050.09,181.845 2054.08,181.599 2058.07,181.355 2062.06,181.111 \n",
              "  2066.05,180.868 2070.04,180.626 2074.02,180.386 2078.01,180.146 2082,179.908 2085.99,179.67 2089.98,179.434 2093.97,179.198 2097.96,178.964 2101.95,178.73 \n",
              "  2105.94,178.498 2109.93,178.266 2113.92,178.036 2117.91,177.807 2121.9,177.578 2125.89,177.351 2129.88,177.124 2133.87,176.899 2137.86,176.674 2141.85,176.45 \n",
              "  2145.84,176.228 2149.83,176.006 2153.82,175.785 2157.81,175.565 2161.8,175.346 2165.79,175.128 2169.78,174.911 2173.76,174.695 2177.75,174.48 2181.74,174.266 \n",
              "  2185.73,174.052 2189.72,173.84 2193.71,173.628 2197.7,173.417 2201.69,173.207 2205.68,172.998 2209.67,172.79 2213.66,172.583 2217.65,172.377 2221.64,172.171 \n",
              "  2225.63,171.966 2229.62,171.763 2233.61,171.56 2237.6,171.358 2241.59,171.156 2245.58,170.956 2249.57,170.756 2253.56,170.557 2257.55,170.36 2261.54,170.162 \n",
              "  \n",
              "  \"/>\n",
              "<polygon clip-path=\"url(#clip0401)\" points=\"\n",
              "1270.94,1296.48 2249.26,1296.48 2249.26,1054.56 1270.94,1054.56 \n",
              "  \" fill=\"#282c34\" fill-rule=\"evenodd\" fill-opacity=\"1\"/>\n",
              "<polyline clip-path=\"url(#clip0401)\" style=\"stroke:#9eb1be; stroke-width:4; stroke-opacity:1; fill:none\" points=\"\n",
              "  1270.94,1296.48 2249.26,1296.48 2249.26,1054.56 1270.94,1054.56 1270.94,1296.48 \n",
              "  \"/>\n",
              "<polyline clip-path=\"url(#clip0401)\" style=\"stroke:#fe4365; stroke-width:4; stroke-opacity:1; fill:none\" points=\"\n",
              "  1294.94,1115.04 1438.94,1115.04 \n",
              "  \"/>\n",
              "<g clip-path=\"url(#clip0401)\">\n",
              "<text style=\"fill:#adadad; fill-opacity:1; font-family:Arial,Helvetica Neue,Helvetica,sans-serif; font-size:48px; text-anchor:start;\" transform=\"rotate(0, 1462.94, 1132.54)\" x=\"1462.94\" y=\"1132.54\">Photodiode noise limited</text>\n",
              "</g>\n",
              "<polyline clip-path=\"url(#clip0401)\" style=\"stroke:#eca25c; stroke-width:4; stroke-opacity:1; fill:none\" points=\"\n",
              "  1294.94,1175.52 1438.94,1175.52 \n",
              "  \"/>\n",
              "<g clip-path=\"url(#clip0401)\">\n",
              "<text style=\"fill:#adadad; fill-opacity:1; font-family:Arial,Helvetica Neue,Helvetica,sans-serif; font-size:48px; text-anchor:start;\" transform=\"rotate(0, 1462.94, 1193.02)\" x=\"1462.94\" y=\"1193.02\">Background noise limited (light off)</text>\n",
              "</g>\n",
              "<polyline clip-path=\"url(#clip0401)\" style=\"stroke:#3f9778; stroke-width:4; stroke-opacity:1; fill:none\" points=\"\n",
              "  1294.94,1236 1438.94,1236 \n",
              "  \"/>\n",
              "<g clip-path=\"url(#clip0401)\">\n",
              "<text style=\"fill:#adadad; fill-opacity:1; font-family:Arial,Helvetica Neue,Helvetica,sans-serif; font-size:48px; text-anchor:start;\" transform=\"rotate(0, 1462.94, 1253.5)\" x=\"1462.94\" y=\"1253.5\">Combined</text>\n",
              "</g>\n",
              "</svg>\n"
            ]
          },
          "metadata": {}
        }
      ],
      "execution_count": 66,
      "metadata": {
        "collapsed": false,
        "outputHidden": false,
        "inputHidden": false
      }
    },
    {
      "cell_type": "markdown",
      "source": [],
      "metadata": {
        "collapsed": false,
        "outputHidden": false,
        "inputHidden": false
      }
    }
  ],
  "metadata": {
    "kernel_info": {
      "name": "julia-1.1"
    },
    "language_info": {
      "file_extension": ".jl",
      "name": "julia",
      "mimetype": "application/julia",
      "version": "1.1.0"
    },
    "kernelspec": {
      "name": "julia-1.1",
      "language": "julia",
      "display_name": "Julia 1.1.0"
    },
    "nteract": {
      "version": "0.12.3"
    }
  },
  "nbformat": 4,
  "nbformat_minor": 4
}