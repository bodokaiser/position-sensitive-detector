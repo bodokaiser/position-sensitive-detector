{
  "cells": [
    {
      "cell_type": "markdown",
      "source": [
        "# Noise\n",
        "\nIn this notebook we want to estimate different noise sources."
      ],
      "metadata": {
        "collapsed": false,
        "outputHidden": false,
        "inputHidden": false
      }
    },
    {
      "cell_type": "code",
      "source": [
        "using Unitful"
      ],
      "outputs": [],
      "execution_count": 1,
      "metadata": {
        "collapsed": false,
        "outputHidden": false,
        "inputHidden": false
      }
    },
    {
      "cell_type": "markdown",
      "source": [
        "## Parameters\n",
        "\n\n",
        "* Bandwidth $B\\leq10$ kHz\n",
        "\n",
        "### Op-amp\n",
        "\n",
        "* Supply voltage $V_\\pm=12$ V\n",
        "* Gain-bandwidth-product $GBP=10$ MHz\n",
        "* Input voltage noise density $e_n=10$ μV/Hz^1/2\n",
        "* Input current noise density $i_n=1.5$ fA/Hz^1/2\n",
        "\n",
        "### Photodiode\n",
        "* Photo current minimum $I_p=1$ μA\n",
        "* Photo current maximum $I_p=100$ μA\n",
        "* Dark current maximum $I_d=10$ nA\n",
        "* Resistance $R_D=5$ to $15$ kΩ\n",
        "* Capacitance $C_D\\leq300$ pF"
      ],
      "metadata": {}
    },
    {
      "cell_type": "markdown",
      "source": [
        "## Questions\n",
        "\nWhat value for the TIA feedback resistor $R_f$? "
      ],
      "metadata": {}
    },
    {
      "cell_type": "markdown",
      "source": [
        "## Noise sources\n",
        "\n",
        "### Shot noise\n",
        "\n$$E_s=\\sqrt{2e_0(I_p+I_d)B}$$"
      ],
      "metadata": {}
    },
    {
      "cell_type": "code",
      "source": [
        "function shot_noise_voltage(photo_current::Unitful.Current, dark_current::Unitful.Current, bandwidth::Unitful.Frequency)\n",
        "    e0 = Unitful.q\n",
        "    Ip = photo_current\n",
        "    Id = dark_current\n",
        "    B = bandwidth\n",
        "    \n",
        "    return upreferred(sqrt(2 * e0 * (Ip + Id) * B))\n",
        "end"
      ],
      "outputs": [
        {
          "output_type": "execute_result",
          "execution_count": 7,
          "data": {
            "text/plain": [
              "shot_noise_voltage (generic function with 1 method)"
            ]
          },
          "metadata": {}
        }
      ],
      "execution_count": 7,
      "metadata": {
        "collapsed": false,
        "outputHidden": false,
        "inputHidden": false
      }
    },
    {
      "cell_type": "code",
      "source": [
        "shot_noise_voltage(1u\"μA\", 10u\"nA\", 10u\"kHz\")"
      ],
      "outputs": [
        {
          "output_type": "execute_result",
          "execution_count": 8,
          "data": {
            "text/plain": [
              "5.688933796429697e-11 A"
            ]
          },
          "metadata": {}
        }
      ],
      "execution_count": 8,
      "metadata": {
        "collapsed": false,
        "outputHidden": false,
        "inputHidden": false
      }
    },
    {
      "cell_type": "code",
      "source": [
        "shot_noise_voltage(100u\"μA\", 10u\"nA\", 10u\"kHz\")"
      ],
      "outputs": [
        {
          "output_type": "execute_result",
          "execution_count": 9,
          "data": {
            "text/plain": [
              "5.660983728049534e-10 A"
            ]
          },
          "metadata": {}
        }
      ],
      "execution_count": 9,
      "metadata": {
        "collapsed": false,
        "outputHidden": false,
        "inputHidden": false
      }
    },
    {
      "cell_type": "markdown",
      "source": [
        "### Thermal noise\n",
        "\n$$E_t=$$"
      ],
      "metadata": {
        "collapsed": false,
        "outputHidden": false,
        "inputHidden": false
      }
    }
  ],
  "metadata": {
    "kernel_info": {
      "name": "julia-1.1"
    },
    "language_info": {
      "file_extension": ".jl",
      "name": "julia",
      "mimetype": "application/julia",
      "version": "1.1.0"
    },
    "kernelspec": {
      "name": "julia-1.1",
      "language": "julia",
      "display_name": "Julia 1.1.0"
    },
    "nteract": {
      "version": "0.12.3"
    }
  },
  "nbformat": 4,
  "nbformat_minor": 4
}